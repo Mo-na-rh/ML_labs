{
  "nbformat": 4,
  "nbformat_minor": 0,
  "metadata": {
    "colab": {
      "name": "LabWork2.ipynb",
      "provenance": [],
      "collapsed_sections": []
    },
    "kernelspec": {
      "name": "python3",
      "display_name": "Python 3"
    },
    "accelerator": "TPU"
  },
  "cells": [
    {
      "cell_type": "markdown",
      "metadata": {
        "id": "_H9I_cx5EvPc",
        "colab_type": "text"
      },
      "source": [
        "Инициализация библиотек и модулей необходимых для работы, а также аутентификация в системе Google для получения доступа к диску"
      ]
    },
    {
      "cell_type": "code",
      "metadata": {
        "id": "BtPD_MZST-cs",
        "colab_type": "code",
        "outputId": "2948edf1-e3a1-4cfd-b85d-8c4d0768a70e",
        "colab": {
          "base_uri": "https://localhost:8080/",
          "height": 34
        }
      },
      "source": [
        "import numpy\n",
        "from keras.models import Sequential\n",
        "from keras.layers import Dense\n",
        "from keras.layers import Dropout\n",
        "from keras.layers import LSTM\n",
        "from keras.callbacks import ModelCheckpoint\n",
        "from keras.utils import np_utils\n",
        "from pydrive.auth import GoogleAuth\n",
        "from pydrive.drive import GoogleDrive\n",
        "from google.colab import auth\n",
        "from oauth2client.client import GoogleCredentials\n",
        "auth.authenticate_user()\n",
        "gauth = GoogleAuth()\n",
        "gauth.credentials = GoogleCredentials.get_application_default()\n",
        "drive = GoogleDrive(gauth)"
      ],
      "execution_count": 0,
      "outputs": [
        {
          "output_type": "stream",
          "text": [
            "Using TensorFlow backend.\n"
          ],
          "name": "stderr"
        }
      ]
    },
    {
      "cell_type": "markdown",
      "metadata": {
        "id": "GTd3sfl2Eh-o",
        "colab_type": "text"
      },
      "source": [
        "Загрузка файла с текстом из Google-диск"
      ]
    },
    {
      "cell_type": "code",
      "metadata": {
        "id": "xnMa288-tEC_",
        "colab_type": "code",
        "colab": {}
      },
      "source": [
        "downloaded = drive.CreateFile({'id':\"1G1WWjsQLZwbwwe9jzyAshtE36dggjnOs\"})\n",
        "downloaded.GetContentFile('Work_text(1).txt')"
      ],
      "execution_count": 0,
      "outputs": []
    },
    {
      "cell_type": "markdown",
      "metadata": {
        "id": "tSB-oxSMFInt",
        "colab_type": "text"
      },
      "source": [
        "Загрузка текста ASCII для книги в память и преобразование всех символов в нижний регистр, чтобы уменьшить словарный запас, который должна выучить сеть."
      ]
    },
    {
      "cell_type": "code",
      "metadata": {
        "id": "ZhnI92R7qX3O",
        "colab_type": "code",
        "colab": {}
      },
      "source": [
        "# load ascii text and covert to lowercase\n",
        "filename = \"Work_text(1).txt\"\n",
        "raw_text = open(filename).read()\n",
        "raw_text = raw_text.lower()"
      ],
      "execution_count": 0,
      "outputs": []
    },
    {
      "cell_type": "markdown",
      "metadata": {
        "id": "MEl-fs_fGj1M",
        "colab_type": "text"
      },
      "source": [
        "Создание набора всех отдельных символов в книге, а затем создание карты каждого символа с уникальным целым числом. Так как мы не можем моделировать символы напрямую."
      ]
    },
    {
      "cell_type": "code",
      "metadata": {
        "id": "t3-ASBhXtjlG",
        "colab_type": "code",
        "colab": {}
      },
      "source": [
        "# create mapping of unique chars to integers\n",
        "chars = sorted(list(set(raw_text)))\n",
        "char_to_int = dict((c, i) for i, c in enumerate(chars))"
      ],
      "execution_count": 0,
      "outputs": []
    },
    {
      "cell_type": "markdown",
      "metadata": {
        "id": "0VUPCfocHD7B",
        "colab_type": "text"
      },
      "source": [
        "Суммируем набор данных"
      ]
    },
    {
      "cell_type": "code",
      "metadata": {
        "id": "X5sGBwqwtqfm",
        "colab_type": "code",
        "outputId": "04efe33a-03c0-42a1-e524-4c36e3178710",
        "colab": {
          "base_uri": "https://localhost:8080/",
          "height": 50
        }
      },
      "source": [
        "n_chars = len(raw_text)\n",
        "n_vocab = len(chars)\n",
        "print(\"Total Characters: \", n_chars)\n",
        "print(\"Total Vocab: \", n_vocab)"
      ],
      "execution_count": 0,
      "outputs": [
        {
          "output_type": "stream",
          "text": [
            "Total Characters:  31202\n",
            "Total Vocab:  67\n"
          ],
          "name": "stdout"
        }
      ]
    },
    {
      "cell_type": "markdown",
      "metadata": {
        "id": "9VUWr-XdHRRL",
        "colab_type": "text"
      },
      "source": [
        "Разделим текст книги на подпоследовательности с фиксированной длиной в 100 символов произвольной длины.Каждый обучающий шаблон сети будет состоять из 100 временных шагов одного символа (X), за которыми следует один символьный вывод (y). "
      ]
    },
    {
      "cell_type": "code",
      "metadata": {
        "id": "U1Rnl6DCuIO2",
        "colab_type": "code",
        "outputId": "9085c658-e7a2-472e-eaf2-8daf925d1def",
        "colab": {
          "base_uri": "https://localhost:8080/",
          "height": 34
        }
      },
      "source": [
        "# prepare the dataset of input to output pairs encoded as integers\n",
        "seq_length = 100\n",
        "dataX = []\n",
        "dataY = []\n",
        "for i in range(0, n_chars - seq_length, 1):\n",
        "\tseq_in = raw_text[i:i + seq_length]\n",
        "\tseq_out = raw_text[i + seq_length]\n",
        "\tdataX.append([char_to_int[char] for char in seq_in])\n",
        "\tdataY.append(char_to_int[seq_out])\n",
        "n_patterns = len(dataX)\n",
        "print(\"Total Patterns: \", n_patterns)"
      ],
      "execution_count": 0,
      "outputs": [
        {
          "output_type": "stream",
          "text": [
            "Total Patterns:  31102\n"
          ],
          "name": "stdout"
        }
      ]
    },
    {
      "cell_type": "markdown",
      "metadata": {
        "id": "14-RGbGEIPVH",
        "colab_type": "text"
      },
      "source": [
        "Нужно преобразовать тренировочные данные так, чтобы они подходили для использования с Keras. Сначала преобразуем список входных последовательностей. Далее изменить масштаб целых чисел в диапазоне от 0 до 1, чтобы облегчить изучение шаблонов сетью LSTM, которая по умолчанию использует функцию активации сигмоида. Далее произведём one-hot encoding для выходных шаблонов. "
      ]
    },
    {
      "cell_type": "code",
      "metadata": {
        "id": "En02uKLtuTX-",
        "colab_type": "code",
        "colab": {}
      },
      "source": [
        "\n",
        "X = numpy.reshape(dataX, (n_patterns, seq_length, 1))\n",
        "# normalize\n",
        "X = X / float(n_vocab)\n",
        "# one hot encode the output variable\n",
        "y = np_utils.to_categorical(dataY)"
      ],
      "execution_count": 0,
      "outputs": []
    },
    {
      "cell_type": "markdown",
      "metadata": {
        "id": "4RyGXEYXKtU6",
        "colab_type": "text"
      },
      "source": [
        "Инициализируем модель и определяем её архитектуру, а также визуализируем средствами keras для наглядности"
      ]
    },
    {
      "cell_type": "code",
      "metadata": {
        "id": "tFRhB9GMuW0O",
        "colab_type": "code",
        "outputId": "9fe327d0-5427-4aff-847c-8466e0470aeb",
        "colab": {
          "base_uri": "https://localhost:8080/",
          "height": 422
        }
      },
      "source": [
        "from keras.utils.vis_utils import plot_model\n",
        "# define the LSTM model\n",
        "model = Sequential()\n",
        "model.add(LSTM(256, input_shape=(X.shape[1], X.shape[2])))\n",
        "model.add(Dropout(0.2))\n",
        "model.add(Dense(y.shape[1], activation='softmax'))\n",
        "model.compile(loss='categorical_crossentropy', optimizer='adam')\n",
        "plot_model(model, to_file='model_plot.png', show_shapes=True, show_layer_names=True)"
      ],
      "execution_count": 0,
      "outputs": [
        {
          "output_type": "execute_result",
          "data": {
            "image/png": "[encoded data removed]",
            "text/plain": [
              "<IPython.core.display.Image object>"
            ]
          },
          "metadata": {
            "tags": []
          },
          "execution_count": 10
        }
      ]
    },
    {
      "cell_type": "markdown",
      "metadata": {
        "id": "BIlrGa1ALNPc",
        "colab_type": "text"
      },
      "source": [
        "Будем делать бэкап весов по каждой эпоху обучения"
      ]
    },
    {
      "cell_type": "code",
      "metadata": {
        "id": "4knLBn6gueXu",
        "colab_type": "code",
        "colab": {}
      },
      "source": [
        "# define the checkpoint\n",
        "filepath=\"weights-improvement-{epoch:02d}-{loss:.4f}.hdf5\"\n",
        "checkpoint = ModelCheckpoint(filepath, monitor='loss', verbose=1, save_best_only=True, mode='min')\n",
        "callbacks_list = [checkpoint]"
      ],
      "execution_count": 0,
      "outputs": []
    },
    {
      "cell_type": "markdown",
      "metadata": {
        "id": "0zHw6nNwLnnG",
        "colab_type": "text"
      },
      "source": [
        "Тренируем модель, на вход количество эпох - 50 , размер батча у нас это 128"
      ]
    },
    {
      "cell_type": "code",
      "metadata": {
        "id": "JvPzW1RyuiaW",
        "colab_type": "code",
        "outputId": "fe52abde-b25c-453c-8d97-cfb7dd24806e",
        "colab": {
          "base_uri": "https://localhost:8080/",
          "height": 1000
        }
      },
      "source": [
        "model.fit(X, y, epochs=50, batch_size=128, callbacks=callbacks_list)"
      ],
      "execution_count": 0,
      "outputs": [
        {
          "output_type": "stream",
          "text": [
            "Epoch 1/50\n",
            "31102/31102 [==============================] - 208s 7ms/step - loss: 3.0556\n",
            "\n",
            "Epoch 00001: loss improved from inf to 3.05563, saving model to weights-improvement-01-3.0556.hdf5\n",
            "Epoch 2/50\n",
            "31102/31102 [==============================] - 208s 7ms/step - loss: 2.9918\n",
            "\n",
            "Epoch 00002: loss improved from 3.05563 to 2.99178, saving model to weights-improvement-02-2.9918.hdf5\n",
            "Epoch 3/50\n",
            "31102/31102 [==============================] - 206s 7ms/step - loss: 2.9653\n",
            "\n",
            "Epoch 00003: loss improved from 2.99178 to 2.96534, saving model to weights-improvement-03-2.9653.hdf5\n",
            "Epoch 4/50\n",
            "31102/31102 [==============================] - 206s 7ms/step - loss: 2.8900\n",
            "\n",
            "Epoch 00004: loss improved from 2.96534 to 2.88998, saving model to weights-improvement-04-2.8900.hdf5\n",
            "Epoch 5/50\n",
            "31102/31102 [==============================] - 209s 7ms/step - loss: 2.8270\n",
            "\n",
            "Epoch 00005: loss improved from 2.88998 to 2.82704, saving model to weights-improvement-05-2.8270.hdf5\n",
            "Epoch 6/50\n",
            "31102/31102 [==============================] - 204s 7ms/step - loss: 2.7783\n",
            "\n",
            "Epoch 00006: loss improved from 2.82704 to 2.77830, saving model to weights-improvement-06-2.7783.hdf5\n",
            "Epoch 7/50\n",
            "31102/31102 [==============================] - 207s 7ms/step - loss: 2.7327\n",
            "\n",
            "Epoch 00007: loss improved from 2.77830 to 2.73266, saving model to weights-improvement-07-2.7327.hdf5\n",
            "Epoch 8/50\n",
            "31102/31102 [==============================] - 207s 7ms/step - loss: 2.6961\n",
            "\n",
            "Epoch 00008: loss improved from 2.73266 to 2.69608, saving model to weights-improvement-08-2.6961.hdf5\n",
            "Epoch 9/50\n",
            "31102/31102 [==============================] - 204s 7ms/step - loss: 2.6636\n",
            "\n",
            "Epoch 00009: loss improved from 2.69608 to 2.66358, saving model to weights-improvement-09-2.6636.hdf5\n",
            "Epoch 10/50\n",
            "31102/31102 [==============================] - 208s 7ms/step - loss: 2.6358\n",
            "\n",
            "Epoch 00010: loss improved from 2.66358 to 2.63582, saving model to weights-improvement-10-2.6358.hdf5\n",
            "Epoch 11/50\n",
            "31102/31102 [==============================] - 209s 7ms/step - loss: 2.6255\n",
            "\n",
            "Epoch 00011: loss improved from 2.63582 to 2.62552, saving model to weights-improvement-11-2.6255.hdf5\n",
            "Epoch 12/50\n",
            "31102/31102 [==============================] - 209s 7ms/step - loss: 2.6315\n",
            "\n",
            "Epoch 00012: loss did not improve from 2.62552\n",
            "Epoch 13/50\n",
            "31102/31102 [==============================] - 205s 7ms/step - loss: 2.6368\n",
            "\n",
            "Epoch 00013: loss did not improve from 2.62552\n",
            "Epoch 14/50\n",
            "31102/31102 [==============================] - 204s 7ms/step - loss: 2.5761\n",
            "\n",
            "Epoch 00014: loss improved from 2.62552 to 2.57608, saving model to weights-improvement-14-2.5761.hdf5\n",
            "Epoch 15/50\n",
            "31102/31102 [==============================] - 204s 7ms/step - loss: 2.5619\n",
            "\n",
            "Epoch 00015: loss improved from 2.57608 to 2.56189, saving model to weights-improvement-15-2.5619.hdf5\n",
            "Epoch 16/50\n",
            "31102/31102 [==============================] - 205s 7ms/step - loss: 2.5509\n",
            "\n",
            "Epoch 00016: loss improved from 2.56189 to 2.55091, saving model to weights-improvement-16-2.5509.hdf5\n",
            "Epoch 17/50\n",
            "31102/31102 [==============================] - 207s 7ms/step - loss: 2.5451\n",
            "\n",
            "Epoch 00017: loss improved from 2.55091 to 2.54511, saving model to weights-improvement-17-2.5451.hdf5\n",
            "Epoch 18/50\n",
            "31102/31102 [==============================] - 207s 7ms/step - loss: 2.5299\n",
            "\n",
            "Epoch 00018: loss improved from 2.54511 to 2.52994, saving model to weights-improvement-18-2.5299.hdf5\n",
            "Epoch 19/50\n",
            "31102/31102 [==============================] - 203s 7ms/step - loss: 2.5224\n",
            "\n",
            "Epoch 00019: loss improved from 2.52994 to 2.52238, saving model to weights-improvement-19-2.5224.hdf5\n",
            "Epoch 20/50\n",
            "31102/31102 [==============================] - 204s 7ms/step - loss: 2.5156\n",
            "\n",
            "Epoch 00020: loss improved from 2.52238 to 2.51555, saving model to weights-improvement-20-2.5156.hdf5\n",
            "Epoch 21/50\n",
            "31102/31102 [==============================] - 207s 7ms/step - loss: 2.5032\n",
            "\n",
            "Epoch 00021: loss improved from 2.51555 to 2.50319, saving model to weights-improvement-21-2.5032.hdf5\n",
            "Epoch 22/50\n",
            "31102/31102 [==============================] - 210s 7ms/step - loss: 2.4992\n",
            "\n",
            "Epoch 00022: loss improved from 2.50319 to 2.49924, saving model to weights-improvement-22-2.4992.hdf5\n",
            "Epoch 23/50\n",
            "31102/31102 [==============================] - 206s 7ms/step - loss: 2.4847\n",
            "\n",
            "Epoch 00023: loss improved from 2.49924 to 2.48474, saving model to weights-improvement-23-2.4847.hdf5\n",
            "Epoch 24/50\n",
            "31102/31102 [==============================] - 206s 7ms/step - loss: 2.4779\n",
            "\n",
            "Epoch 00024: loss improved from 2.48474 to 2.47787, saving model to weights-improvement-24-2.4779.hdf5\n",
            "Epoch 25/50\n",
            "31102/31102 [==============================] - 206s 7ms/step - loss: 2.4626\n",
            "\n",
            "Epoch 00025: loss improved from 2.47787 to 2.46262, saving model to weights-improvement-25-2.4626.hdf5\n",
            "Epoch 26/50\n",
            "31102/31102 [==============================] - 206s 7ms/step - loss: 2.4556\n",
            "\n",
            "Epoch 00026: loss improved from 2.46262 to 2.45560, saving model to weights-improvement-26-2.4556.hdf5\n",
            "Epoch 27/50\n",
            "31102/31102 [==============================] - 204s 7ms/step - loss: 2.4486\n",
            "\n",
            "Epoch 00027: loss improved from 2.45560 to 2.44861, saving model to weights-improvement-27-2.4486.hdf5\n",
            "Epoch 28/50\n",
            "31102/31102 [==============================] - 203s 7ms/step - loss: 2.4312\n",
            "\n",
            "Epoch 00028: loss improved from 2.44861 to 2.43115, saving model to weights-improvement-28-2.4312.hdf5\n",
            "Epoch 29/50\n",
            "31102/31102 [==============================] - 207s 7ms/step - loss: 2.4219\n",
            "\n",
            "Epoch 00029: loss improved from 2.43115 to 2.42188, saving model to weights-improvement-29-2.4219.hdf5\n",
            "Epoch 30/50\n",
            "31102/31102 [==============================] - 210s 7ms/step - loss: 2.4110\n",
            "\n",
            "Epoch 00030: loss improved from 2.42188 to 2.41100, saving model to weights-improvement-30-2.4110.hdf5\n",
            "Epoch 31/50\n",
            "31102/31102 [==============================] - 210s 7ms/step - loss: 2.3933\n",
            "\n",
            "Epoch 00031: loss improved from 2.41100 to 2.39326, saving model to weights-improvement-31-2.3933.hdf5\n",
            "Epoch 32/50\n",
            "31102/31102 [==============================] - 207s 7ms/step - loss: 2.3849\n",
            "\n",
            "Epoch 00032: loss improved from 2.39326 to 2.38490, saving model to weights-improvement-32-2.3849.hdf5\n",
            "Epoch 33/50\n",
            "31102/31102 [==============================] - 210s 7ms/step - loss: 2.3691\n",
            "\n",
            "Epoch 00033: loss improved from 2.38490 to 2.36905, saving model to weights-improvement-33-2.3691.hdf5\n",
            "Epoch 34/50\n",
            "31102/31102 [==============================] - 205s 7ms/step - loss: 2.3537\n",
            "\n",
            "Epoch 00034: loss improved from 2.36905 to 2.35365, saving model to weights-improvement-34-2.3537.hdf5\n",
            "Epoch 35/50\n",
            "31102/31102 [==============================] - 205s 7ms/step - loss: 2.3373\n",
            "\n",
            "Epoch 00035: loss improved from 2.35365 to 2.33731, saving model to weights-improvement-35-2.3373.hdf5\n",
            "Epoch 36/50\n",
            "31102/31102 [==============================] - 206s 7ms/step - loss: 2.3177\n",
            "\n",
            "Epoch 00036: loss improved from 2.33731 to 2.31768, saving model to weights-improvement-36-2.3177.hdf5\n",
            "Epoch 37/50\n",
            "31102/31102 [==============================] - 210s 7ms/step - loss: 2.3044\n",
            "\n",
            "Epoch 00037: loss improved from 2.31768 to 2.30443, saving model to weights-improvement-37-2.3044.hdf5\n",
            "Epoch 38/50\n",
            "31102/31102 [==============================] - 210s 7ms/step - loss: 2.3164\n",
            "\n",
            "Epoch 00038: loss did not improve from 2.30443\n",
            "Epoch 39/50\n",
            "31102/31102 [==============================] - 214s 7ms/step - loss: 2.2692\n",
            "\n",
            "Epoch 00039: loss improved from 2.30443 to 2.26916, saving model to weights-improvement-39-2.2692.hdf5\n",
            "Epoch 40/50\n",
            "31102/31102 [==============================] - 214s 7ms/step - loss: 2.2510\n",
            "\n",
            "Epoch 00040: loss improved from 2.26916 to 2.25100, saving model to weights-improvement-40-2.2510.hdf5\n",
            "Epoch 41/50\n",
            "31102/31102 [==============================] - 210s 7ms/step - loss: 2.2357\n",
            "\n",
            "Epoch 00041: loss improved from 2.25100 to 2.23574, saving model to weights-improvement-41-2.2357.hdf5\n",
            "Epoch 42/50\n",
            "31102/31102 [==============================] - 208s 7ms/step - loss: 2.2211\n",
            "\n",
            "Epoch 00042: loss improved from 2.23574 to 2.22106, saving model to weights-improvement-42-2.2211.hdf5\n",
            "Epoch 43/50\n",
            "31102/31102 [==============================] - 214s 7ms/step - loss: 2.2030\n",
            "\n",
            "Epoch 00043: loss improved from 2.22106 to 2.20298, saving model to weights-improvement-43-2.2030.hdf5\n",
            "Epoch 44/50\n",
            "31102/31102 [==============================] - 218s 7ms/step - loss: 2.1881\n",
            "\n",
            "Epoch 00044: loss improved from 2.20298 to 2.18812, saving model to weights-improvement-44-2.1881.hdf5\n",
            "Epoch 45/50\n",
            "31102/31102 [==============================] - 216s 7ms/step - loss: 2.1675\n",
            "\n",
            "Epoch 00045: loss improved from 2.18812 to 2.16750, saving model to weights-improvement-45-2.1675.hdf5\n",
            "Epoch 46/50\n",
            "31102/31102 [==============================] - 216s 7ms/step - loss: 2.1511\n",
            "\n",
            "Epoch 00046: loss improved from 2.16750 to 2.15107, saving model to weights-improvement-46-2.1511.hdf5\n",
            "Epoch 47/50\n",
            "31102/31102 [==============================] - 210s 7ms/step - loss: 2.1339\n",
            "\n",
            "Epoch 00047: loss improved from 2.15107 to 2.13394, saving model to weights-improvement-47-2.1339.hdf5\n",
            "Epoch 48/50\n",
            "31102/31102 [==============================] - 208s 7ms/step - loss: 2.1108\n",
            "\n",
            "Epoch 00048: loss improved from 2.13394 to 2.11083, saving model to weights-improvement-48-2.1108.hdf5\n",
            "Epoch 49/50\n",
            "31102/31102 [==============================] - 207s 7ms/step - loss: 2.0910\n",
            "\n",
            "Epoch 00049: loss improved from 2.11083 to 2.09103, saving model to weights-improvement-49-2.0910.hdf5\n",
            "Epoch 50/50\n",
            "31102/31102 [==============================] - 209s 7ms/step - loss: 2.0707\n",
            "\n",
            "Epoch 00050: loss improved from 2.09103 to 2.07073, saving model to weights-improvement-50-2.0707.hdf5\n"
          ],
          "name": "stdout"
        },
        {
          "output_type": "execute_result",
          "data": {
            "text/plain": [
              "<keras.callbacks.callbacks.History at 0x7fb01eebe668>"
            ]
          },
          "metadata": {
            "tags": []
          },
          "execution_count": 12
        }
      ]
    },
    {
      "cell_type": "markdown",
      "metadata": {
        "id": "T7MCEtZGMRJV",
        "colab_type": "text"
      },
      "source": [
        "Подгружаем в модель веса с наилучшим результатом"
      ]
    },
    {
      "cell_type": "code",
      "metadata": {
        "id": "hr4w19AJaVlN",
        "colab_type": "code",
        "colab": {}
      },
      "source": [
        "filename = \"weights-improvement-50-2.0707.hdf5\"\n",
        "model.load_weights(filename)\n",
        "model.compile(loss='categorical_crossentropy', optimizer='adam')"
      ],
      "execution_count": 0,
      "outputs": []
    },
    {
      "cell_type": "markdown",
      "metadata": {
        "id": "bya0pwMgyEZX",
        "colab_type": "text"
      },
      "source": [
        "Преобразование обратно в символы"
      ]
    },
    {
      "cell_type": "code",
      "metadata": {
        "id": "FKd1U0yCc2-s",
        "colab_type": "code",
        "colab": {}
      },
      "source": [
        "int_to_char = dict((i, c) for i, c in enumerate(chars))"
      ],
      "execution_count": 0,
      "outputs": []
    },
    {
      "cell_type": "markdown",
      "metadata": {
        "id": "RniIq4ujNRp2",
        "colab_type": "text"
      },
      "source": [
        "Пробуем делать прогнозы на обученной модели. Сначала начнём с последовательности начальных чисел в качестве входных данных, сгенерируем следующий символ, затем обновим последовательность начальных чисел, чтобы добавить сгенерированный символ в конец, и обрезать первый символ. Этот процесс повторяется до тех пор, пока мы хотим предсказать новые символы (например, последовательность длиной 1000 символов).\n",
        "\n",
        "Мы можем выбрать случайный шаблон ввода в качестве нашей начальной последовательности, а затем распечатать сгенерированные символы по мере их создания."
      ]
    },
    {
      "cell_type": "code",
      "metadata": {
        "id": "h6fqnayac5KA",
        "colab_type": "code",
        "outputId": "97120b6a-bf5c-40fa-c959-015a5f98fb76",
        "colab": {
          "base_uri": "https://localhost:8080/",
          "height": 168
        }
      },
      "source": [
        "import sys\n",
        "# pick a random seed\n",
        "start = numpy.random.randint(0, len(dataX)-1)\n",
        "pattern = dataX[start]\n",
        "print(\"Seed:\")\n",
        "print(\"\\\"\", ''.join([int_to_char[value] for value in pattern]), \"\\\"\")\n",
        "# generate characters\n",
        "for i in range(1000):\n",
        "\tx = numpy.reshape(pattern, (1, len(pattern), 1))\n",
        "\tx = x / float(n_vocab)\n",
        "\tprediction = model.predict(x, verbose=0)\n",
        "\tindex = numpy.argmax(prediction)\n",
        "\tresult = int_to_char[index]\n",
        "\tseq_in = [int_to_char[value] for value in pattern]\n",
        "\t#sys.stdout.write(result)\n",
        "\tpattern.append(index)\n",
        "\tpattern = pattern[1:len(pattern)]\n",
        "print(\"\\nDone.\")"
      ],
      "execution_count": 0,
      "outputs": [
        {
          "output_type": "stream",
          "text": [
            "Seed:\n",
            "\"                                                   w. ben hunt\n",
            "\n",
            "\n",
            "milwaukee public museum\n",
            "\n",
            "        pop \"\n",
            "\n",
            "Done.\n"
          ],
          "name": "stdout"
        }
      ]
    },
    {
      "cell_type": "markdown",
      "metadata": {
        "id": "0VuZzrp0N35y",
        "colab_type": "text"
      },
      "source": [
        "Аналогичный процесс произведём для двухслойной LSTM, однослойной GRU, и SimpleRNN, полноценные результаты и выводы по экспериментам отражены в прилагающемся отчёте."
      ]
    },
    {
      "cell_type": "code",
      "metadata": {
        "id": "PWFHvQ_SeP76",
        "colab_type": "code",
        "outputId": "161b26af-7522-438d-eff5-9ed59e7b74a4",
        "colab": {
          "base_uri": "https://localhost:8080/",
          "height": 67
        }
      },
      "source": [
        "# Two layers LSTM Network to Generate Text for \"KACHINA DOLLS\"\n",
        "import numpy\n",
        "from keras.utils.vis_utils import plot_model\n",
        "from keras.models import Sequential\n",
        "from keras.layers import Dense\n",
        "from keras.layers import Dropout\n",
        "from keras.layers import LSTM\n",
        "from keras.callbacks import ModelCheckpoint\n",
        "from keras.utils import np_utils\n",
        "# load ascii text and covert to lowercase\n",
        "filename = \"Work_text(1).txt\"\n",
        "raw_text = open(filename, 'r', encoding='utf-8').read()\n",
        "raw_text = raw_text.lower()\n",
        "# create mapping of unique chars to integers\n",
        "chars = sorted(list(set(raw_text)))\n",
        "char_to_int = dict((c, i) for i, c in enumerate(chars))\n",
        "# summarize the loaded data\n",
        "n_chars = len(raw_text)\n",
        "n_vocab = len(chars)\n",
        "print(\"Total Characters: \", n_chars)\n",
        "print(\"Total Vocab: \", n_vocab)\n",
        "# prepare the dataset of input to output pairs encoded as integers\n",
        "seq_length = 100\n",
        "dataX = []\n",
        "dataY = []\n",
        "for i in range(0, n_chars - seq_length, 1):\n",
        "\tseq_in = raw_text[i:i + seq_length]\n",
        "\tseq_out = raw_text[i + seq_length]\n",
        "\tdataX.append([char_to_int[char] for char in seq_in])\n",
        "\tdataY.append(char_to_int[seq_out])\n",
        "n_patterns = len(dataX)\n",
        "print(\"Total Patterns: \", n_patterns)\n",
        "# reshape X to be [samples, time steps, features]\n",
        "X = numpy.reshape(dataX, (n_patterns, seq_length, 1))\n",
        "# normalize\n",
        "X = X / float(n_vocab)\n",
        "# one hot encode the output variable\n",
        "y = np_utils.to_categorical(dataY)\n",
        "# define the LSTM model\n",
        "model = Sequential()\n",
        "model.add(LSTM(256, input_shape=(X.shape[1], X.shape[2]), return_sequences=True))\n",
        "model.add(Dropout(0.2))\n",
        "model.add(LSTM(256))\n",
        "model.add(Dropout(0.2))\n",
        "model.add(Dense(y.shape[1], activation='softmax'))\n",
        "model.compile(loss='categorical_crossentropy', optimizer='adam')\n",
        "plot_model(model, to_file='model_plot.png', show_shapes=True, show_layer_names=True)\n",
        "# define the checkpoint\n",
        "filepath=\"weights-improvement-{epoch:02d}-{loss:.4f}-bigger.hdf5\"\n",
        "checkpoint = ModelCheckpoint(filepath, monitor='loss', verbose=1, save_best_only=True, mode='min')\n",
        "callbacks_list = [checkpoint]\n",
        "# fit the model\n",
        "#model.fit(X, y, epochs=50, batch_size=64, callbacks=callbacks_list)"
      ],
      "execution_count": 0,
      "outputs": [
        {
          "output_type": "stream",
          "text": [
            "Total Characters:  31202\n",
            "Total Vocab:  67\n",
            "Total Patterns:  31102\n"
          ],
          "name": "stdout"
        }
      ]
    },
    {
      "cell_type": "code",
      "metadata": {
        "id": "mZsFXTZDWe-W",
        "colab_type": "code",
        "colab": {}
      },
      "source": [
        "filename = \"weights-improvement-50-0.8987-bigger.hdf5\"\n",
        "model.load_weights(filename)\n",
        "model.compile(loss='categorical_crossentropy', optimizer='adam')"
      ],
      "execution_count": 0,
      "outputs": []
    },
    {
      "cell_type": "code",
      "metadata": {
        "id": "lW4fbGnLXFdg",
        "colab_type": "code",
        "outputId": "02e1c5e7-e448-4b17-a2f7-561a6749a474",
        "colab": {
          "base_uri": "https://localhost:8080/",
          "height": 118
        }
      },
      "source": [
        "import sys\n",
        "int_to_char = dict((i, c) for i, c in enumerate(chars))\n",
        "\n",
        "# pick a random seed\n",
        "start = numpy.random.randint(0, len(dataX)-1)\n",
        "pattern = dataX[start]\n",
        "print(\"Seed:\")\n",
        "print(\"\\\"\", ''.join([int_to_char[value] for value in pattern]), \"\\\"\")\n",
        "# generate characters\n",
        "for i in range(1000):\n",
        "\tx = numpy.reshape(pattern, (1, len(pattern), 1))\n",
        "\tx = x / float(n_vocab)\n",
        "\tprediction = model.predict(x, verbose=0)\n",
        "\tindex = numpy.argmax(prediction)\n",
        "\tresult = int_to_char[index]\n",
        "\tseq_in = [int_to_char[value] for value in pattern]\n",
        "\t#sys.stdout.write(result)\n",
        "\tpattern.append(index)\n",
        "\tpattern = pattern[1:len(pattern)]\n",
        "print(\"\\nDone.\")"
      ],
      "execution_count": 0,
      "outputs": [
        {
          "output_type": "stream",
          "text": [
            "Seed:\n",
            "\" n it was\n",
            "discovered that tourists prized them. and like everything else, someone\n",
            "saw a chance to ear \"\n",
            "\n",
            "Done.\n"
          ],
          "name": "stdout"
        }
      ]
    },
    {
      "cell_type": "code",
      "metadata": {
        "id": "R3UUwHcvZBIv",
        "colab_type": "code",
        "outputId": "c2825382-bc91-4507-dbdf-1da808b79817",
        "colab": {
          "base_uri": "https://localhost:8080/",
          "height": 1000
        }
      },
      "source": [
        "# One lauer GRU Network to Generate Text \"KACHINA DOLLS\"\n",
        "import numpy\n",
        "from keras.utils.vis_utils import plot_model\n",
        "from keras.models import Sequential\n",
        "from keras.layers import Dense\n",
        "from keras.layers import Dropout\n",
        "from keras.layers import GRU\n",
        "from keras.callbacks import ModelCheckpoint\n",
        "from keras.utils import np_utils\n",
        "# load ascii text and covert to lowercase\n",
        "filename = \"Work_text(1).txt\"\n",
        "raw_text = open(filename).read()\n",
        "raw_text = raw_text.lower()\n",
        "# create mapping of unique chars to integers\n",
        "chars = sorted(list(set(raw_text)))\n",
        "char_to_int = dict((c, i) for i, c in enumerate(chars))\n",
        "# summarize the loaded data\n",
        "n_chars = len(raw_text)\n",
        "n_vocab = len(chars)\n",
        "print(\"Total Characters: \", n_chars)\n",
        "print(\"Total Vocab: \", n_vocab)\n",
        "# prepare the dataset of input to output pairs encoded as integers\n",
        "seq_length = 100\n",
        "dataX = []\n",
        "dataY = []\n",
        "for i in range(0, n_chars - seq_length, 1):\n",
        "\tseq_in = raw_text[i:i + seq_length]\n",
        "\tseq_out = raw_text[i + seq_length]\n",
        "\tdataX.append([char_to_int[char] for char in seq_in])\n",
        "\tdataY.append(char_to_int[seq_out])\n",
        "n_patterns = len(dataX)\n",
        "print(\"Total Patterns: \", n_patterns)\n",
        "# reshape X to be [samples, time steps, features]\n",
        "X = numpy.reshape(dataX, (n_patterns, seq_length, 1))\n",
        "# normalize\n",
        "X = X / float(n_vocab)\n",
        "# one hot encode the output variable\n",
        "y = np_utils.to_categorical(dataY)\n",
        "# define the GRU model\n",
        "model = Sequential()\n",
        "model.add(GRU(256, input_shape=(X.shape[1], X.shape[2])))\n",
        "model.add(Dropout(0.2))\n",
        "model.add(Dense(y.shape[1], activation='softmax'))\n",
        "model.compile(loss='categorical_crossentropy', optimizer='adam')\n",
        "plot_model(model, to_file='model_plot.png', show_shapes=True, show_layer_names=True)\n",
        "# define the checkpoint\n",
        "filepath=\"weights-improvement-{epoch:02d}-{loss:.4f}-bigger.hdf5\"\n",
        "checkpoint = ModelCheckpoint(filepath, monitor='loss', verbose=1, save_best_only=True, mode='min')\n",
        "callbacks_list = [checkpoint]\n",
        "# fit the model\n",
        "model.fit(X, y, nb_epoch=50, batch_size=64, callbacks=callbacks_list)"
      ],
      "execution_count": 0,
      "outputs": [
        {
          "output_type": "stream",
          "text": [
            "Total Characters:  31202\n",
            "Total Vocab:  67\n",
            "Total Patterns:  31102\n"
          ],
          "name": "stdout"
        },
        {
          "output_type": "stream",
          "text": [
            "/usr/local/lib/python3.6/dist-packages/ipykernel_launcher.py:49: UserWarning: The `nb_epoch` argument in `fit` has been renamed `epochs`.\n"
          ],
          "name": "stderr"
        },
        {
          "output_type": "stream",
          "text": [
            "Epoch 1/50\n",
            "31102/31102 [==============================] - 147s 5ms/step - loss: 3.0152\n",
            "\n",
            "Epoch 00001: loss improved from inf to 3.01524, saving model to weights-improvement-01-3.0152-bigger.hdf5\n",
            "Epoch 2/50\n",
            "31102/31102 [==============================] - 149s 5ms/step - loss: 2.8332\n",
            "\n",
            "Epoch 00002: loss improved from 3.01524 to 2.83319, saving model to weights-improvement-02-2.8332-bigger.hdf5\n",
            "Epoch 3/50\n",
            "31102/31102 [==============================] - 148s 5ms/step - loss: 2.7467\n",
            "\n",
            "Epoch 00003: loss improved from 2.83319 to 2.74666, saving model to weights-improvement-03-2.7467-bigger.hdf5\n",
            "Epoch 4/50\n",
            "31102/31102 [==============================] - 148s 5ms/step - loss: 2.6841\n",
            "\n",
            "Epoch 00004: loss improved from 2.74666 to 2.68414, saving model to weights-improvement-04-2.6841-bigger.hdf5\n",
            "Epoch 5/50\n",
            "31102/31102 [==============================] - 148s 5ms/step - loss: 2.6263\n",
            "\n",
            "Epoch 00005: loss improved from 2.68414 to 2.62630, saving model to weights-improvement-05-2.6263-bigger.hdf5\n",
            "Epoch 6/50\n",
            "31102/31102 [==============================] - 148s 5ms/step - loss: 2.5840\n",
            "\n",
            "Epoch 00006: loss improved from 2.62630 to 2.58400, saving model to weights-improvement-06-2.5840-bigger.hdf5\n",
            "Epoch 7/50\n",
            "31102/31102 [==============================] - 152s 5ms/step - loss: 2.5515\n",
            "\n",
            "Epoch 00007: loss improved from 2.58400 to 2.55148, saving model to weights-improvement-07-2.5515-bigger.hdf5\n",
            "Epoch 8/50\n",
            "31102/31102 [==============================] - 151s 5ms/step - loss: 2.5222\n",
            "\n",
            "Epoch 00008: loss improved from 2.55148 to 2.52224, saving model to weights-improvement-08-2.5222-bigger.hdf5\n",
            "Epoch 9/50\n",
            "31102/31102 [==============================] - 153s 5ms/step - loss: 2.4963\n",
            "\n",
            "Epoch 00009: loss improved from 2.52224 to 2.49634, saving model to weights-improvement-09-2.4963-bigger.hdf5\n",
            "Epoch 10/50\n",
            "31102/31102 [==============================] - 149s 5ms/step - loss: 2.4721\n",
            "\n",
            "Epoch 00010: loss improved from 2.49634 to 2.47210, saving model to weights-improvement-10-2.4721-bigger.hdf5\n",
            "Epoch 11/50\n",
            "31102/31102 [==============================] - 150s 5ms/step - loss: 2.4558\n",
            "\n",
            "Epoch 00011: loss improved from 2.47210 to 2.45585, saving model to weights-improvement-11-2.4558-bigger.hdf5\n",
            "Epoch 12/50\n",
            "31102/31102 [==============================] - 150s 5ms/step - loss: 2.4174\n",
            "\n",
            "Epoch 00012: loss improved from 2.45585 to 2.41740, saving model to weights-improvement-12-2.4174-bigger.hdf5\n",
            "Epoch 13/50\n",
            "31102/31102 [==============================] - 148s 5ms/step - loss: 2.3896\n",
            "\n",
            "Epoch 00013: loss improved from 2.41740 to 2.38960, saving model to weights-improvement-13-2.3896-bigger.hdf5\n",
            "Epoch 14/50\n",
            "31102/31102 [==============================] - 153s 5ms/step - loss: 2.3659\n",
            "\n",
            "Epoch 00014: loss improved from 2.38960 to 2.36588, saving model to weights-improvement-14-2.3659-bigger.hdf5\n",
            "Epoch 15/50\n",
            "31102/31102 [==============================] - 148s 5ms/step - loss: 2.3271\n",
            "\n",
            "Epoch 00015: loss improved from 2.36588 to 2.32714, saving model to weights-improvement-15-2.3271-bigger.hdf5\n",
            "Epoch 16/50\n",
            "31102/31102 [==============================] - 146s 5ms/step - loss: 2.2911\n",
            "\n",
            "Epoch 00016: loss improved from 2.32714 to 2.29113, saving model to weights-improvement-16-2.2911-bigger.hdf5\n",
            "Epoch 17/50\n",
            "31102/31102 [==============================] - 149s 5ms/step - loss: 2.2454\n",
            "\n",
            "Epoch 00017: loss improved from 2.29113 to 2.24538, saving model to weights-improvement-17-2.2454-bigger.hdf5\n",
            "Epoch 18/50\n",
            "31102/31102 [==============================] - 149s 5ms/step - loss: 2.2074\n",
            "\n",
            "Epoch 00018: loss improved from 2.24538 to 2.20738, saving model to weights-improvement-18-2.2074-bigger.hdf5\n",
            "Epoch 19/50\n",
            "31102/31102 [==============================] - 150s 5ms/step - loss: 2.1540\n",
            "\n",
            "Epoch 00019: loss improved from 2.20738 to 2.15400, saving model to weights-improvement-19-2.1540-bigger.hdf5\n",
            "Epoch 20/50\n",
            "31102/31102 [==============================] - 147s 5ms/step - loss: 2.1023\n",
            "\n",
            "Epoch 00020: loss improved from 2.15400 to 2.10235, saving model to weights-improvement-20-2.1023-bigger.hdf5\n",
            "Epoch 21/50\n",
            "31102/31102 [==============================] - 149s 5ms/step - loss: 2.0585\n",
            "\n",
            "Epoch 00021: loss improved from 2.10235 to 2.05852, saving model to weights-improvement-21-2.0585-bigger.hdf5\n",
            "Epoch 22/50\n",
            "31102/31102 [==============================] - 148s 5ms/step - loss: 2.0024\n",
            "\n",
            "Epoch 00022: loss improved from 2.05852 to 2.00239, saving model to weights-improvement-22-2.0024-bigger.hdf5\n",
            "Epoch 23/50\n",
            "31102/31102 [==============================] - 148s 5ms/step - loss: 1.9540\n",
            "\n",
            "Epoch 00023: loss improved from 2.00239 to 1.95401, saving model to weights-improvement-23-1.9540-bigger.hdf5\n",
            "Epoch 24/50\n",
            "31102/31102 [==============================] - 153s 5ms/step - loss: 1.9003\n",
            "\n",
            "Epoch 00024: loss improved from 1.95401 to 1.90029, saving model to weights-improvement-24-1.9003-bigger.hdf5\n",
            "Epoch 25/50\n",
            "31102/31102 [==============================] - 154s 5ms/step - loss: 1.8577\n",
            "\n",
            "Epoch 00025: loss improved from 1.90029 to 1.85774, saving model to weights-improvement-25-1.8577-bigger.hdf5\n",
            "Epoch 26/50\n",
            "31102/31102 [==============================] - 150s 5ms/step - loss: 1.8009\n",
            "\n",
            "Epoch 00026: loss improved from 1.85774 to 1.80093, saving model to weights-improvement-26-1.8009-bigger.hdf5\n",
            "Epoch 27/50\n",
            "31102/31102 [==============================] - 151s 5ms/step - loss: 1.7550\n",
            "\n",
            "Epoch 00027: loss improved from 1.80093 to 1.75496, saving model to weights-improvement-27-1.7550-bigger.hdf5\n",
            "Epoch 28/50\n",
            "31102/31102 [==============================] - 151s 5ms/step - loss: 1.7144\n",
            "\n",
            "Epoch 00028: loss improved from 1.75496 to 1.71436, saving model to weights-improvement-28-1.7144-bigger.hdf5\n",
            "Epoch 29/50\n",
            "31102/31102 [==============================] - 150s 5ms/step - loss: 1.6634\n",
            "\n",
            "Epoch 00029: loss improved from 1.71436 to 1.66342, saving model to weights-improvement-29-1.6634-bigger.hdf5\n",
            "Epoch 30/50\n",
            "31102/31102 [==============================] - 150s 5ms/step - loss: 1.6144\n",
            "\n",
            "Epoch 00030: loss improved from 1.66342 to 1.61439, saving model to weights-improvement-30-1.6144-bigger.hdf5\n",
            "Epoch 31/50\n",
            "31102/31102 [==============================] - 153s 5ms/step - loss: 1.5730\n",
            "\n",
            "Epoch 00031: loss improved from 1.61439 to 1.57301, saving model to weights-improvement-31-1.5730-bigger.hdf5\n",
            "Epoch 32/50\n",
            "31102/31102 [==============================] - 150s 5ms/step - loss: 1.5367\n",
            "\n",
            "Epoch 00032: loss improved from 1.57301 to 1.53673, saving model to weights-improvement-32-1.5367-bigger.hdf5\n",
            "Epoch 33/50\n",
            "31102/31102 [==============================] - 151s 5ms/step - loss: 1.4947\n",
            "\n",
            "Epoch 00033: loss improved from 1.53673 to 1.49471, saving model to weights-improvement-33-1.4947-bigger.hdf5\n",
            "Epoch 34/50\n",
            "31102/31102 [==============================] - 150s 5ms/step - loss: 1.4517\n",
            "\n",
            "Epoch 00034: loss improved from 1.49471 to 1.45174, saving model to weights-improvement-34-1.4517-bigger.hdf5\n",
            "Epoch 35/50\n",
            "31102/31102 [==============================] - 149s 5ms/step - loss: 1.4143\n",
            "\n",
            "Epoch 00035: loss improved from 1.45174 to 1.41434, saving model to weights-improvement-35-1.4143-bigger.hdf5\n",
            "Epoch 36/50\n",
            "31102/31102 [==============================] - 149s 5ms/step - loss: 1.3753\n",
            "\n",
            "Epoch 00036: loss improved from 1.41434 to 1.37530, saving model to weights-improvement-36-1.3753-bigger.hdf5\n",
            "Epoch 37/50\n",
            "31102/31102 [==============================] - 149s 5ms/step - loss: 1.3483\n",
            "\n",
            "Epoch 00037: loss improved from 1.37530 to 1.34831, saving model to weights-improvement-37-1.3483-bigger.hdf5\n",
            "Epoch 38/50\n",
            "31102/31102 [==============================] - 145s 5ms/step - loss: 1.3085\n",
            "\n",
            "Epoch 00038: loss improved from 1.34831 to 1.30846, saving model to weights-improvement-38-1.3085-bigger.hdf5\n",
            "Epoch 39/50\n",
            "31102/31102 [==============================] - 148s 5ms/step - loss: 1.2719\n",
            "\n",
            "Epoch 00039: loss improved from 1.30846 to 1.27190, saving model to weights-improvement-39-1.2719-bigger.hdf5\n",
            "Epoch 40/50\n",
            "31102/31102 [==============================] - 147s 5ms/step - loss: 1.2485\n",
            "\n",
            "Epoch 00040: loss improved from 1.27190 to 1.24852, saving model to weights-improvement-40-1.2485-bigger.hdf5\n",
            "Epoch 41/50\n",
            "31102/31102 [==============================] - 148s 5ms/step - loss: 1.2105\n",
            "\n",
            "Epoch 00041: loss improved from 1.24852 to 1.21055, saving model to weights-improvement-41-1.2105-bigger.hdf5\n",
            "Epoch 42/50\n",
            "31102/31102 [==============================] - 150s 5ms/step - loss: 1.1872\n",
            "\n",
            "Epoch 00042: loss improved from 1.21055 to 1.18722, saving model to weights-improvement-42-1.1872-bigger.hdf5\n",
            "Epoch 43/50\n",
            "31102/31102 [==============================] - 148s 5ms/step - loss: 1.1534\n",
            "\n",
            "Epoch 00043: loss improved from 1.18722 to 1.15344, saving model to weights-improvement-43-1.1534-bigger.hdf5\n",
            "Epoch 44/50\n",
            "31102/31102 [==============================] - 148s 5ms/step - loss: 1.1373\n",
            "\n",
            "Epoch 00044: loss improved from 1.15344 to 1.13727, saving model to weights-improvement-44-1.1373-bigger.hdf5\n",
            "Epoch 45/50\n",
            "31102/31102 [==============================] - 148s 5ms/step - loss: 1.1004\n",
            "\n",
            "Epoch 00045: loss improved from 1.13727 to 1.10037, saving model to weights-improvement-45-1.1004-bigger.hdf5\n",
            "Epoch 46/50\n",
            "31102/31102 [==============================] - 149s 5ms/step - loss: 1.0685\n",
            "\n",
            "Epoch 00046: loss improved from 1.10037 to 1.06852, saving model to weights-improvement-46-1.0685-bigger.hdf5\n",
            "Epoch 47/50\n",
            "31102/31102 [==============================] - 145s 5ms/step - loss: 1.0510\n",
            "\n",
            "Epoch 00047: loss improved from 1.06852 to 1.05103, saving model to weights-improvement-47-1.0510-bigger.hdf5\n",
            "Epoch 48/50\n",
            "31102/31102 [==============================] - 150s 5ms/step - loss: 1.0335\n",
            "\n",
            "Epoch 00048: loss improved from 1.05103 to 1.03352, saving model to weights-improvement-48-1.0335-bigger.hdf5\n",
            "Epoch 49/50\n",
            "31102/31102 [==============================] - 150s 5ms/step - loss: 1.0079\n",
            "\n",
            "Epoch 00049: loss improved from 1.03352 to 1.00786, saving model to weights-improvement-49-1.0079-bigger.hdf5\n",
            "Epoch 50/50\n",
            "31102/31102 [==============================] - 152s 5ms/step - loss: 0.9810\n",
            "\n",
            "Epoch 00050: loss improved from 1.00786 to 0.98096, saving model to weights-improvement-50-0.9810-bigger.hdf5\n"
          ],
          "name": "stdout"
        },
        {
          "output_type": "execute_result",
          "data": {
            "text/plain": [
              "<keras.callbacks.callbacks.History at 0x7f20c4a404a8>"
            ]
          },
          "metadata": {
            "tags": []
          },
          "execution_count": 26
        }
      ]
    },
    {
      "cell_type": "code",
      "metadata": {
        "id": "qNx6o6E09tm7",
        "colab_type": "code",
        "outputId": "ab9ac33d-94cd-41ed-9315-1455e6d17cef",
        "colab": {
          "base_uri": "https://localhost:8080/",
          "height": 118
        }
      },
      "source": [
        "import sys\n",
        "int_to_char = dict((i, c) for i, c in enumerate(chars))\n",
        "\n",
        "# pick a random seed\n",
        "start = numpy.random.randint(0, len(dataX)-1)\n",
        "pattern = dataX[start]\n",
        "print(\"Seed:\")\n",
        "print(\"\\\"\", ''.join([int_to_char[value] for value in pattern]), \"\\\"\")\n",
        "# generate characters\n",
        "for i in range(1000):\n",
        "\tx = numpy.reshape(pattern, (1, len(pattern), 1))\n",
        "\tx = x / float(n_vocab)\n",
        "\tprediction = model.predict(x, verbose=0)\n",
        "\tindex = numpy.argmax(prediction)\n",
        "\tresult = int_to_char[index]\n",
        "\tseq_in = [int_to_char[value] for value in pattern]\n",
        "\t#sys.stdout.write(result)\n",
        "\tpattern.append(index)\n",
        "\tpattern = pattern[1:len(pattern)]\n",
        "print(\"\\nDone.\")"
      ],
      "execution_count": 0,
      "outputs": [
        {
          "output_type": "stream",
          "text": [
            "Seed:\n",
            "\" cements dry\n",
            "quickly, it is better to use a glue that water color will adhere to.\n",
            "regular hide glue o \"\n",
            "\n",
            "Done.\n"
          ],
          "name": "stdout"
        }
      ]
    },
    {
      "cell_type": "code",
      "metadata": {
        "id": "K9iYgQigCRXm",
        "colab_type": "code",
        "outputId": "00052cd5-17fd-4e06-e82b-10ad6fee008b",
        "colab": {
          "base_uri": "https://localhost:8080/",
          "height": 1000
        }
      },
      "source": [
        "# One lauer simplleRNN  to Generate Text \"KACHINA DOLLS\"\n",
        "import numpy\n",
        "from keras.utils.vis_utils import plot_model\n",
        "from keras.models import Sequential\n",
        "from keras.layers import Dense\n",
        "from keras.layers import Dropout\n",
        "from keras.layers import SimpleRNN\n",
        "from keras.callbacks import ModelCheckpoint\n",
        "from keras.utils import np_utils\n",
        "# load ascii text and covert to lowercase\n",
        "filename = \"Work_text(1).txt\"\n",
        "raw_text = open(filename).read()\n",
        "raw_text = raw_text.lower()\n",
        "# create mapping of unique chars to integers\n",
        "chars = sorted(list(set(raw_text)))\n",
        "char_to_int = dict((c, i) for i, c in enumerate(chars))\n",
        "# summarize the loaded data\n",
        "n_chars = len(raw_text)\n",
        "n_vocab = len(chars)\n",
        "print(\"Total Characters: \", n_chars)\n",
        "print(\"Total Vocab: \", n_vocab)\n",
        "# prepare the dataset of input to output pairs encoded as integers\n",
        "seq_length = 100\n",
        "dataX = []\n",
        "dataY = []\n",
        "for i in range(0, n_chars - seq_length, 1):\n",
        "\tseq_in = raw_text[i:i + seq_length]\n",
        "\tseq_out = raw_text[i + seq_length]\n",
        "\tdataX.append([char_to_int[char] for char in seq_in])\n",
        "\tdataY.append(char_to_int[seq_out])\n",
        "n_patterns = len(dataX)\n",
        "print(\"Total Patterns: \", n_patterns)\n",
        "# reshape X to be [samples, time steps, features]\n",
        "X = numpy.reshape(dataX, (n_patterns, seq_length, 1))\n",
        "# normalize\n",
        "X = X / float(n_vocab)\n",
        "# one hot encode the output variable\n",
        "y = np_utils.to_categorical(dataY)\n",
        "# define the SimpleRNN model\n",
        "model = Sequential()\n",
        "# The output of SimpleRNN will be a 2D tensor of shape (batch_size, 128)\n",
        "model.add(SimpleRNN(256, input_shape=(X.shape[1], X.shape[2])))\n",
        "model.add(Dropout(0.2))\n",
        "model.add(Dense(y.shape[1], activation='softmax'))\n",
        "model.compile(loss='categorical_crossentropy', optimizer='adam')\n",
        "plot_model(model, to_file='model_plot.png', show_shapes=True, show_layer_names=True)\n",
        "# define the checkpoint\n",
        "filepath=\"weights-improvement-{epoch:02d}-{loss:.4f}-bigger.hdf5\"\n",
        "checkpoint = ModelCheckpoint(filepath, monitor='loss', verbose=1, save_best_only=True, mode='min')\n",
        "callbacks_list = [checkpoint]\n",
        "# fit the model\n",
        "model.fit(X, y, nb_epoch=50, batch_size=64, callbacks=callbacks_list)"
      ],
      "execution_count": 0,
      "outputs": [
        {
          "output_type": "stream",
          "text": [
            "Total Characters:  31202\n",
            "Total Vocab:  67\n",
            "Total Patterns:  31102\n"
          ],
          "name": "stdout"
        },
        {
          "output_type": "stream",
          "text": [
            "/usr/local/lib/python3.6/dist-packages/ipykernel_launcher.py:51: UserWarning: The `nb_epoch` argument in `fit` has been renamed `epochs`.\n"
          ],
          "name": "stderr"
        },
        {
          "output_type": "stream",
          "text": [
            "Epoch 1/50\n",
            "31102/31102 [==============================] - 58s 2ms/step - loss: 3.0884\n",
            "\n",
            "Epoch 00001: loss improved from inf to 3.08835, saving model to weights-improvement-01-3.0884-bigger.hdf5\n",
            "Epoch 2/50\n",
            "31102/31102 [==============================] - 57s 2ms/step - loss: 3.0974\n",
            "\n",
            "Epoch 00002: loss did not improve from 3.08835\n",
            "Epoch 3/50\n",
            "31102/31102 [==============================] - 58s 2ms/step - loss: 3.0273\n",
            "\n",
            "Epoch 00003: loss improved from 3.08835 to 3.02734, saving model to weights-improvement-03-3.0273-bigger.hdf5\n",
            "Epoch 4/50\n",
            "31102/31102 [==============================] - 59s 2ms/step - loss: 2.9698\n",
            "\n",
            "Epoch 00004: loss improved from 3.02734 to 2.96977, saving model to weights-improvement-04-2.9698-bigger.hdf5\n",
            "Epoch 5/50\n",
            "31102/31102 [==============================] - 59s 2ms/step - loss: 2.9368\n",
            "\n",
            "Epoch 00005: loss improved from 2.96977 to 2.93685, saving model to weights-improvement-05-2.9368-bigger.hdf5\n",
            "Epoch 6/50\n",
            "31102/31102 [==============================] - 58s 2ms/step - loss: 2.9017\n",
            "\n",
            "Epoch 00006: loss improved from 2.93685 to 2.90169, saving model to weights-improvement-06-2.9017-bigger.hdf5\n",
            "Epoch 7/50\n",
            "31102/31102 [==============================] - 58s 2ms/step - loss: 2.8790\n",
            "\n",
            "Epoch 00007: loss improved from 2.90169 to 2.87899, saving model to weights-improvement-07-2.8790-bigger.hdf5\n",
            "Epoch 8/50\n",
            "31102/31102 [==============================] - 57s 2ms/step - loss: 2.8580\n",
            "\n",
            "Epoch 00008: loss improved from 2.87899 to 2.85799, saving model to weights-improvement-08-2.8580-bigger.hdf5\n",
            "Epoch 9/50\n",
            "31102/31102 [==============================] - 57s 2ms/step - loss: 2.8436\n",
            "\n",
            "Epoch 00009: loss improved from 2.85799 to 2.84356, saving model to weights-improvement-09-2.8436-bigger.hdf5\n",
            "Epoch 10/50\n",
            "31102/31102 [==============================] - 57s 2ms/step - loss: 2.8247\n",
            "\n",
            "Epoch 00010: loss improved from 2.84356 to 2.82466, saving model to weights-improvement-10-2.8247-bigger.hdf5\n",
            "Epoch 11/50\n",
            "31102/31102 [==============================] - 57s 2ms/step - loss: 2.8009\n",
            "\n",
            "Epoch 00011: loss improved from 2.82466 to 2.80087, saving model to weights-improvement-11-2.8009-bigger.hdf5\n",
            "Epoch 12/50\n",
            "31102/31102 [==============================] - 58s 2ms/step - loss: 2.7802\n",
            "\n",
            "Epoch 00012: loss improved from 2.80087 to 2.78019, saving model to weights-improvement-12-2.7802-bigger.hdf5\n",
            "Epoch 13/50\n",
            "31102/31102 [==============================] - 58s 2ms/step - loss: 2.7592\n",
            "\n",
            "Epoch 00013: loss improved from 2.78019 to 2.75916, saving model to weights-improvement-13-2.7592-bigger.hdf5\n",
            "Epoch 14/50\n",
            "31102/31102 [==============================] - 57s 2ms/step - loss: 2.7515\n",
            "\n",
            "Epoch 00014: loss improved from 2.75916 to 2.75150, saving model to weights-improvement-14-2.7515-bigger.hdf5\n",
            "Epoch 15/50\n",
            "31102/31102 [==============================] - 57s 2ms/step - loss: 2.7314\n",
            "\n",
            "Epoch 00015: loss improved from 2.75150 to 2.73140, saving model to weights-improvement-15-2.7314-bigger.hdf5\n",
            "Epoch 16/50\n",
            "31102/31102 [==============================] - 59s 2ms/step - loss: 2.7130\n",
            "\n",
            "Epoch 00016: loss improved from 2.73140 to 2.71305, saving model to weights-improvement-16-2.7130-bigger.hdf5\n",
            "Epoch 17/50\n",
            "31102/31102 [==============================] - 58s 2ms/step - loss: 2.6903\n",
            "\n",
            "Epoch 00017: loss improved from 2.71305 to 2.69028, saving model to weights-improvement-17-2.6903-bigger.hdf5\n",
            "Epoch 18/50\n",
            "31102/31102 [==============================] - 57s 2ms/step - loss: 2.6834\n",
            "\n",
            "Epoch 00018: loss improved from 2.69028 to 2.68344, saving model to weights-improvement-18-2.6834-bigger.hdf5\n",
            "Epoch 19/50\n",
            "31102/31102 [==============================] - 56s 2ms/step - loss: 2.6686\n",
            "\n",
            "Epoch 00019: loss improved from 2.68344 to 2.66857, saving model to weights-improvement-19-2.6686-bigger.hdf5\n",
            "Epoch 20/50\n",
            "31102/31102 [==============================] - 57s 2ms/step - loss: 2.6544\n",
            "\n",
            "Epoch 00020: loss improved from 2.66857 to 2.65438, saving model to weights-improvement-20-2.6544-bigger.hdf5\n",
            "Epoch 21/50\n",
            "31102/31102 [==============================] - 58s 2ms/step - loss: 2.6376\n",
            "\n",
            "Epoch 00021: loss improved from 2.65438 to 2.63761, saving model to weights-improvement-21-2.6376-bigger.hdf5\n",
            "Epoch 22/50\n",
            "31102/31102 [==============================] - 58s 2ms/step - loss: 2.6272\n",
            "\n",
            "Epoch 00022: loss improved from 2.63761 to 2.62715, saving model to weights-improvement-22-2.6272-bigger.hdf5\n",
            "Epoch 23/50\n",
            "31102/31102 [==============================] - 57s 2ms/step - loss: 2.6104\n",
            "\n",
            "Epoch 00023: loss improved from 2.62715 to 2.61043, saving model to weights-improvement-23-2.6104-bigger.hdf5\n",
            "Epoch 24/50\n",
            "31102/31102 [==============================] - 57s 2ms/step - loss: 2.5991\n",
            "\n",
            "Epoch 00024: loss improved from 2.61043 to 2.59907, saving model to weights-improvement-24-2.5991-bigger.hdf5\n",
            "Epoch 25/50\n",
            "31102/31102 [==============================] - 58s 2ms/step - loss: 2.5906\n",
            "\n",
            "Epoch 00025: loss improved from 2.59907 to 2.59056, saving model to weights-improvement-25-2.5906-bigger.hdf5\n",
            "Epoch 26/50\n",
            "31102/31102 [==============================] - 59s 2ms/step - loss: 2.5788\n",
            "\n",
            "Epoch 00026: loss improved from 2.59056 to 2.57882, saving model to weights-improvement-26-2.5788-bigger.hdf5\n",
            "Epoch 27/50\n",
            "31102/31102 [==============================] - 58s 2ms/step - loss: 2.5636\n",
            "\n",
            "Epoch 00027: loss improved from 2.57882 to 2.56362, saving model to weights-improvement-27-2.5636-bigger.hdf5\n",
            "Epoch 28/50\n",
            "31102/31102 [==============================] - 59s 2ms/step - loss: 2.5542\n",
            "\n",
            "Epoch 00028: loss improved from 2.56362 to 2.55416, saving model to weights-improvement-28-2.5542-bigger.hdf5\n",
            "Epoch 29/50\n",
            "31102/31102 [==============================] - 58s 2ms/step - loss: 2.5381\n",
            "\n",
            "Epoch 00029: loss improved from 2.55416 to 2.53812, saving model to weights-improvement-29-2.5381-bigger.hdf5\n",
            "Epoch 30/50\n",
            "31102/31102 [==============================] - 59s 2ms/step - loss: 2.5255\n",
            "\n",
            "Epoch 00030: loss improved from 2.53812 to 2.52547, saving model to weights-improvement-30-2.5255-bigger.hdf5\n",
            "Epoch 31/50\n",
            "31102/31102 [==============================] - 57s 2ms/step - loss: 2.5162\n",
            "\n",
            "Epoch 00031: loss improved from 2.52547 to 2.51617, saving model to weights-improvement-31-2.5162-bigger.hdf5\n",
            "Epoch 32/50\n",
            "31102/31102 [==============================] - 58s 2ms/step - loss: 2.5039\n",
            "\n",
            "Epoch 00032: loss improved from 2.51617 to 2.50387, saving model to weights-improvement-32-2.5039-bigger.hdf5\n",
            "Epoch 33/50\n",
            "31102/31102 [==============================] - 58s 2ms/step - loss: 2.5020\n",
            "\n",
            "Epoch 00033: loss improved from 2.50387 to 2.50199, saving model to weights-improvement-33-2.5020-bigger.hdf5\n",
            "Epoch 34/50\n",
            "31102/31102 [==============================] - 58s 2ms/step - loss: 2.4812\n",
            "\n",
            "Epoch 00034: loss improved from 2.50199 to 2.48123, saving model to weights-improvement-34-2.4812-bigger.hdf5\n",
            "Epoch 35/50\n",
            "31102/31102 [==============================] - 58s 2ms/step - loss: 2.4704\n",
            "\n",
            "Epoch 00035: loss improved from 2.48123 to 2.47044, saving model to weights-improvement-35-2.4704-bigger.hdf5\n",
            "Epoch 36/50\n",
            "31102/31102 [==============================] - 57s 2ms/step - loss: 2.4664\n",
            "\n",
            "Epoch 00036: loss improved from 2.47044 to 2.46636, saving model to weights-improvement-36-2.4664-bigger.hdf5\n",
            "Epoch 37/50\n",
            "31102/31102 [==============================] - 58s 2ms/step - loss: 2.4529\n",
            "\n",
            "Epoch 00037: loss improved from 2.46636 to 2.45291, saving model to weights-improvement-37-2.4529-bigger.hdf5\n",
            "Epoch 38/50\n",
            "31102/31102 [==============================] - 58s 2ms/step - loss: 2.4469\n",
            "\n",
            "Epoch 00038: loss improved from 2.45291 to 2.44689, saving model to weights-improvement-38-2.4469-bigger.hdf5\n",
            "Epoch 39/50\n",
            "31102/31102 [==============================] - 57s 2ms/step - loss: 2.4313\n",
            "\n",
            "Epoch 00039: loss improved from 2.44689 to 2.43133, saving model to weights-improvement-39-2.4313-bigger.hdf5\n",
            "Epoch 40/50\n",
            "31102/31102 [==============================] - 57s 2ms/step - loss: 2.4307\n",
            "\n",
            "Epoch 00040: loss improved from 2.43133 to 2.43072, saving model to weights-improvement-40-2.4307-bigger.hdf5\n",
            "Epoch 41/50\n",
            "31102/31102 [==============================] - 57s 2ms/step - loss: 2.4199\n",
            "\n",
            "Epoch 00041: loss improved from 2.43072 to 2.41992, saving model to weights-improvement-41-2.4199-bigger.hdf5\n",
            "Epoch 42/50\n",
            "31102/31102 [==============================] - 57s 2ms/step - loss: 2.4119\n",
            "\n",
            "Epoch 00042: loss improved from 2.41992 to 2.41188, saving model to weights-improvement-42-2.4119-bigger.hdf5\n",
            "Epoch 43/50\n",
            "31102/31102 [==============================] - 58s 2ms/step - loss: 2.4092\n",
            "\n",
            "Epoch 00043: loss improved from 2.41188 to 2.40917, saving model to weights-improvement-43-2.4092-bigger.hdf5\n",
            "Epoch 44/50\n",
            "31102/31102 [==============================] - 57s 2ms/step - loss: 2.4018\n",
            "\n",
            "Epoch 00044: loss improved from 2.40917 to 2.40182, saving model to weights-improvement-44-2.4018-bigger.hdf5\n",
            "Epoch 45/50\n",
            "31102/31102 [==============================] - 57s 2ms/step - loss: 2.4032\n",
            "\n",
            "Epoch 00045: loss did not improve from 2.40182\n",
            "Epoch 46/50\n",
            "31102/31102 [==============================] - 57s 2ms/step - loss: 2.4069\n",
            "\n",
            "Epoch 00046: loss did not improve from 2.40182\n",
            "Epoch 47/50\n",
            "31102/31102 [==============================] - 57s 2ms/step - loss: 2.3891\n",
            "\n",
            "Epoch 00047: loss improved from 2.40182 to 2.38914, saving model to weights-improvement-47-2.3891-bigger.hdf5\n",
            "Epoch 48/50\n",
            "31102/31102 [==============================] - 58s 2ms/step - loss: 2.4059\n",
            "\n",
            "Epoch 00048: loss did not improve from 2.38914\n",
            "Epoch 49/50\n",
            "31102/31102 [==============================] - 58s 2ms/step - loss: 2.3821\n",
            "\n",
            "Epoch 00049: loss improved from 2.38914 to 2.38208, saving model to weights-improvement-49-2.3821-bigger.hdf5\n",
            "Epoch 50/50\n",
            "31102/31102 [==============================] - 58s 2ms/step - loss: 2.3709\n",
            "\n",
            "Epoch 00050: loss improved from 2.38208 to 2.37094, saving model to weights-improvement-50-2.3709-bigger.hdf5\n"
          ],
          "name": "stdout"
        },
        {
          "output_type": "execute_result",
          "data": {
            "text/plain": [
              "<keras.callbacks.callbacks.History at 0x7fb016bf7cf8>"
            ]
          },
          "metadata": {
            "tags": []
          },
          "execution_count": 7
        }
      ]
    },
    {
      "cell_type": "code",
      "metadata": {
        "id": "UBx9MvE1aXbw",
        "colab_type": "code",
        "outputId": "426a6d44-96c8-400e-82ec-064b178ec575",
        "colab": {
          "base_uri": "https://localhost:8080/",
          "height": 118
        }
      },
      "source": [
        "import sys\n",
        "int_to_char = dict((i, c) for i, c in enumerate(chars))\n",
        "\n",
        "# pick a random seed\n",
        "start = numpy.random.randint(0, len(dataX)-1)\n",
        "pattern = dataX[start]\n",
        "print(\"Seed:\")\n",
        "print(\"\\\"\", ''.join([int_to_char[value] for value in pattern]), \"\\\"\")\n",
        "# generate characters\n",
        "for i in range(1000):\n",
        "\tx = numpy.reshape(pattern, (1, len(pattern), 1))\n",
        "\tx = x / float(n_vocab)\n",
        "\tprediction = model.predict(x, verbose=0)\n",
        "\tindex = numpy.argmax(prediction)\n",
        "\tresult = int_to_char[index]\n",
        "\tseq_in = [int_to_char[value] for value in pattern]\n",
        "\t#sys.stdout.write(result)\n",
        "\tpattern.append(index)\n",
        "\tpattern = pattern[1:len(pattern)]\n",
        "print(\"\\nDone.\")"
      ],
      "execution_count": 0,
      "outputs": [
        {
          "output_type": "stream",
          "text": [
            "Seed:\n",
            "\" e along these lines. you\n",
            "will probably get a lot of ideas when traveling, but here are a couple\n",
            "that \"\n",
            "\n",
            "Done.\n"
          ],
          "name": "stdout"
        }
      ]
    }
  ]
}