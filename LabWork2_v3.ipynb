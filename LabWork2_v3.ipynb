{
  "nbformat": 4,
  "nbformat_minor": 0,
  "metadata": {
    "colab": {
      "name": "LabWork2.ipynb",
      "provenance": [],
      "collapsed_sections": []
    },
    "kernelspec": {
      "name": "python3",
      "display_name": "Python 3"
    },
    "accelerator": "GPU"
  },
  "cells": [
    {
      "cell_type": "markdown",
      "metadata": {
        "id": "_H9I_cx5EvPc",
        "colab_type": "text"
      },
      "source": [
        "Инициализация библиотек и модулей необходимых для работы, а также аутентификация в системе Google для получения доступа к диску"
      ]
    },
    {
      "cell_type": "code",
      "metadata": {
        "id": "BtPD_MZST-cs",
        "colab_type": "code",
        "colab": {}
      },
      "source": [
        "import numpy\n",
        "from keras.models import Sequential\n",
        "from keras.layers import Dense\n",
        "from keras.layers import Dropout\n",
        "from keras.layers import LSTM\n",
        "from keras.callbacks import ModelCheckpoint\n",
        "from keras.utils import np_utils\n",
        "from pydrive.auth import GoogleAuth\n",
        "from pydrive.drive import GoogleDrive\n",
        "from google.colab import auth\n",
        "from oauth2client.client import GoogleCredentials\n",
        "auth.authenticate_user()\n",
        "gauth = GoogleAuth()\n",
        "gauth.credentials = GoogleCredentials.get_application_default()\n",
        "drive = GoogleDrive(gauth)"
      ],
      "execution_count": 0,
      "outputs": []
    },
    {
      "cell_type": "markdown",
      "metadata": {
        "id": "GTd3sfl2Eh-o",
        "colab_type": "text"
      },
      "source": [
        "Загрузка файла с текстом из Google-диск"
      ]
    },
    {
      "cell_type": "code",
      "metadata": {
        "id": "xnMa288-tEC_",
        "colab_type": "code",
        "colab": {}
      },
      "source": [
        "downloaded = drive.CreateFile({'id':\"1G1WWjsQLZwbwwe9jzyAshtE36dggjnOs\"})\n",
        "downloaded.GetContentFile('Work_text(1).txt')"
      ],
      "execution_count": 0,
      "outputs": []
    },
    {
      "cell_type": "markdown",
      "metadata": {
        "id": "tSB-oxSMFInt",
        "colab_type": "text"
      },
      "source": [
        "Загрузка текста ASCII для книги в память и преобразование всех символов в нижний регистр, чтобы уменьшить словарный запас, который должна выучить сеть."
      ]
    },
    {
      "cell_type": "code",
      "metadata": {
        "id": "ZhnI92R7qX3O",
        "colab_type": "code",
        "colab": {}
      },
      "source": [
        "# load ascii text and covert to lowercase\n",
        "filename = \"Work_text(1).txt\"\n",
        "raw_text = open(filename).read()\n",
        "raw_text = raw_text.lower()"
      ],
      "execution_count": 0,
      "outputs": []
    },
    {
      "cell_type": "markdown",
      "metadata": {
        "id": "MEl-fs_fGj1M",
        "colab_type": "text"
      },
      "source": [
        "Создание набора всех отдельных символов в книге, а затем создание карты каждого символа с уникальным целым числом. Так как мы не можем моделировать символы напрямую."
      ]
    },
    {
      "cell_type": "code",
      "metadata": {
        "id": "t3-ASBhXtjlG",
        "colab_type": "code",
        "colab": {}
      },
      "source": [
        "# create mapping of unique chars to integers\n",
        "chars = sorted(list(set(raw_text)))\n",
        "char_to_int = dict((c, i) for i, c in enumerate(chars))"
      ],
      "execution_count": 0,
      "outputs": []
    },
    {
      "cell_type": "markdown",
      "metadata": {
        "id": "0VUPCfocHD7B",
        "colab_type": "text"
      },
      "source": [
        "Суммируем набор данных"
      ]
    },
    {
      "cell_type": "code",
      "metadata": {
        "id": "X5sGBwqwtqfm",
        "colab_type": "code",
        "outputId": "5fef1e00-912d-47d3-eae3-02d0fae6a34c",
        "colab": {
          "base_uri": "https://localhost:8080/",
          "height": 50
        }
      },
      "source": [
        "n_chars = len(raw_text)\n",
        "n_vocab = len(chars)\n",
        "print(\"Total Characters: \", n_chars)\n",
        "print(\"Total Vocab: \", n_vocab)"
      ],
      "execution_count": 10,
      "outputs": [
        {
          "output_type": "stream",
          "text": [
            "Total Characters:  31202\n",
            "Total Vocab:  67\n"
          ],
          "name": "stdout"
        }
      ]
    },
    {
      "cell_type": "markdown",
      "metadata": {
        "id": "9VUWr-XdHRRL",
        "colab_type": "text"
      },
      "source": [
        "Разделим текст книги на подпоследовательности с фиксированной длиной в 100 символов произвольной длины.Каждый обучающий шаблон сети будет состоять из 100 временных шагов одного символа (X), за которыми следует один символьный вывод (y). "
      ]
    },
    {
      "cell_type": "code",
      "metadata": {
        "id": "U1Rnl6DCuIO2",
        "colab_type": "code",
        "outputId": "4e3fcb00-de90-4f8c-99bb-8902bcd5a6a1",
        "colab": {
          "base_uri": "https://localhost:8080/",
          "height": 34
        }
      },
      "source": [
        "# prepare the dataset of input to output pairs encoded as integers\n",
        "seq_length = 100\n",
        "dataX = []\n",
        "dataY = []\n",
        "for i in range(0, n_chars - seq_length, 1):\n",
        "\tseq_in = raw_text[i:i + seq_length]\n",
        "\tseq_out = raw_text[i + seq_length]\n",
        "\tdataX.append([char_to_int[char] for char in seq_in])\n",
        "\tdataY.append(char_to_int[seq_out])\n",
        "n_patterns = len(dataX)\n",
        "print(\"Total Patterns: \", n_patterns)"
      ],
      "execution_count": 11,
      "outputs": [
        {
          "output_type": "stream",
          "text": [
            "Total Patterns:  31102\n"
          ],
          "name": "stdout"
        }
      ]
    },
    {
      "cell_type": "markdown",
      "metadata": {
        "id": "14-RGbGEIPVH",
        "colab_type": "text"
      },
      "source": [
        "Нужно преобразовать тренировочные данные так, чтобы они подходили для использования с Keras. Сначала преобразуем список входных последовательностей. Далее изменить масштаб целых чисел в диапазоне от 0 до 1, чтобы облегчить изучение шаблонов сетью LSTM, которая по умолчанию использует функцию активации сигмоида. Далее произведём one-hot encoding для выходных шаблонов. "
      ]
    },
    {
      "cell_type": "code",
      "metadata": {
        "id": "En02uKLtuTX-",
        "colab_type": "code",
        "colab": {}
      },
      "source": [
        "\n",
        "X = numpy.reshape(dataX, (n_patterns, seq_length, 1))\n",
        "# normalize\n",
        "X = X / float(n_vocab)\n",
        "# one hot encode the output variable\n",
        "y = np_utils.to_categorical(dataY)"
      ],
      "execution_count": 0,
      "outputs": []
    },
    {
      "cell_type": "markdown",
      "metadata": {
        "id": "4RyGXEYXKtU6",
        "colab_type": "text"
      },
      "source": [
        "Инициализируем модель и определяем её архитектуру, а также визуализируем средствами keras для наглядности"
      ]
    },
    {
      "cell_type": "code",
      "metadata": {
        "id": "tFRhB9GMuW0O",
        "colab_type": "code",
        "outputId": "d76a95aa-92ed-4435-fac8-f04f14227cfe",
        "colab": {
          "base_uri": "https://localhost:8080/",
          "height": 422
        }
      },
      "source": [
        "from keras.utils.vis_utils import plot_model\n",
        "from keras.models import Sequential\n",
        "from keras.layers import LSTM\n",
        "# define the LSTM model\n",
        "model = Sequential()\n",
        "model.add(LSTM(256, input_shape=(X.shape[1], X.shape[2])))\n",
        "model.add(Dropout(0.2))\n",
        "model.add(Dense(y.shape[1], activation='softmax'))\n",
        "model.compile(loss='categorical_crossentropy', optimizer='adam')\n",
        "plot_model(model, to_file='model_plot.png', show_shapes=True, show_layer_names=True)"
      ],
      "execution_count": 13,
      "outputs": [
        {
          "output_type": "execute_result",
          "data": {
            "image/png": "[encoded data removed]",
            "text/plain": [
              "<IPython.core.display.Image object>"
            ]
          },
          "metadata": {
            "tags": []
          },
          "execution_count": 13
        }
      ]
    },
    {
      "cell_type": "markdown",
      "metadata": {
        "id": "BIlrGa1ALNPc",
        "colab_type": "text"
      },
      "source": [
        "Будем делать бэкап весов по каждой эпоху обучения"
      ]
    },
    {
      "cell_type": "code",
      "metadata": {
        "id": "4knLBn6gueXu",
        "colab_type": "code",
        "colab": {}
      },
      "source": [
        "# define the checkpoint\n",
        "filepath=\"weights-improvement-{epoch:02d}-{loss:.4f}.hdf5\"\n",
        "checkpoint = ModelCheckpoint(filepath, monitor='loss', verbose=1, save_best_only=True, mode='min')\n",
        "callbacks_list = [checkpoint]"
      ],
      "execution_count": 0,
      "outputs": []
    },
    {
      "cell_type": "markdown",
      "metadata": {
        "id": "0zHw6nNwLnnG",
        "colab_type": "text"
      },
      "source": [
        "Тренируем модель, на вход количество эпох - 50 , размер батча у нас это 128"
      ]
    },
    {
      "cell_type": "code",
      "metadata": {
        "id": "JvPzW1RyuiaW",
        "colab_type": "code",
        "outputId": "44c453f4-8747-4009-c7b0-59e62955c6c7",
        "colab": {
          "base_uri": "https://localhost:8080/",
          "height": 1000
        }
      },
      "source": [
        "history = model.fit(X, y, epochs=50, batch_size=128, callbacks=callbacks_list)"
      ],
      "execution_count": 15,
      "outputs": [
        {
          "output_type": "stream",
          "text": [
            "Epoch 1/50\n",
            "31102/31102 [==============================] - 40s 1ms/step - loss: 3.0527\n",
            "\n",
            "Epoch 00001: loss improved from inf to 3.05267, saving model to weights-improvement-01-3.0527.hdf5\n",
            "Epoch 2/50\n",
            "31102/31102 [==============================] - 38s 1ms/step - loss: 2.9910\n",
            "\n",
            "Epoch 00002: loss improved from 3.05267 to 2.99101, saving model to weights-improvement-02-2.9910.hdf5\n",
            "Epoch 3/50\n",
            "31102/31102 [==============================] - 38s 1ms/step - loss: 2.9683\n",
            "\n",
            "Epoch 00003: loss improved from 2.99101 to 2.96834, saving model to weights-improvement-03-2.9683.hdf5\n",
            "Epoch 4/50\n",
            "31102/31102 [==============================] - 38s 1ms/step - loss: 2.9312\n",
            "\n",
            "Epoch 00004: loss improved from 2.96834 to 2.93123, saving model to weights-improvement-04-2.9312.hdf5\n",
            "Epoch 5/50\n",
            "31102/31102 [==============================] - 37s 1ms/step - loss: 2.8666\n",
            "\n",
            "Epoch 00005: loss improved from 2.93123 to 2.86664, saving model to weights-improvement-05-2.8666.hdf5\n",
            "Epoch 6/50\n",
            "31102/31102 [==============================] - 37s 1ms/step - loss: 2.8119\n",
            "\n",
            "Epoch 00006: loss improved from 2.86664 to 2.81192, saving model to weights-improvement-06-2.8119.hdf5\n",
            "Epoch 7/50\n",
            "31102/31102 [==============================] - 37s 1ms/step - loss: 2.7698\n",
            "\n",
            "Epoch 00007: loss improved from 2.81192 to 2.76984, saving model to weights-improvement-07-2.7698.hdf5\n",
            "Epoch 8/50\n",
            "31102/31102 [==============================] - 37s 1ms/step - loss: 2.7278\n",
            "\n",
            "Epoch 00008: loss improved from 2.76984 to 2.72784, saving model to weights-improvement-08-2.7278.hdf5\n",
            "Epoch 9/50\n",
            "31102/31102 [==============================] - 37s 1ms/step - loss: 2.6964\n",
            "\n",
            "Epoch 00009: loss improved from 2.72784 to 2.69638, saving model to weights-improvement-09-2.6964.hdf5\n",
            "Epoch 10/50\n",
            "31102/31102 [==============================] - 37s 1ms/step - loss: 2.6639\n",
            "\n",
            "Epoch 00010: loss improved from 2.69638 to 2.66391, saving model to weights-improvement-10-2.6639.hdf5\n",
            "Epoch 11/50\n",
            "31102/31102 [==============================] - 38s 1ms/step - loss: 2.6320\n",
            "\n",
            "Epoch 00011: loss improved from 2.66391 to 2.63195, saving model to weights-improvement-11-2.6320.hdf5\n",
            "Epoch 12/50\n",
            "31102/31102 [==============================] - 37s 1ms/step - loss: 2.6047\n",
            "\n",
            "Epoch 00012: loss improved from 2.63195 to 2.60468, saving model to weights-improvement-12-2.6047.hdf5\n",
            "Epoch 13/50\n",
            "31102/31102 [==============================] - 37s 1ms/step - loss: 2.5805\n",
            "\n",
            "Epoch 00013: loss improved from 2.60468 to 2.58053, saving model to weights-improvement-13-2.5805.hdf5\n",
            "Epoch 14/50\n",
            "31102/31102 [==============================] - 37s 1ms/step - loss: 2.5577\n",
            "\n",
            "Epoch 00014: loss improved from 2.58053 to 2.55772, saving model to weights-improvement-14-2.5577.hdf5\n",
            "Epoch 15/50\n",
            "31102/31102 [==============================] - 37s 1ms/step - loss: 2.5371\n",
            "\n",
            "Epoch 00015: loss improved from 2.55772 to 2.53713, saving model to weights-improvement-15-2.5371.hdf5\n",
            "Epoch 16/50\n",
            "31102/31102 [==============================] - 37s 1ms/step - loss: 2.5192\n",
            "\n",
            "Epoch 00016: loss improved from 2.53713 to 2.51916, saving model to weights-improvement-16-2.5192.hdf5\n",
            "Epoch 17/50\n",
            "31102/31102 [==============================] - 37s 1ms/step - loss: 2.5069\n",
            "\n",
            "Epoch 00017: loss improved from 2.51916 to 2.50691, saving model to weights-improvement-17-2.5069.hdf5\n",
            "Epoch 18/50\n",
            "31102/31102 [==============================] - 37s 1ms/step - loss: 2.4898\n",
            "\n",
            "Epoch 00018: loss improved from 2.50691 to 2.48980, saving model to weights-improvement-18-2.4898.hdf5\n",
            "Epoch 19/50\n",
            "31102/31102 [==============================] - 38s 1ms/step - loss: 2.4732\n",
            "\n",
            "Epoch 00019: loss improved from 2.48980 to 2.47320, saving model to weights-improvement-19-2.4732.hdf5\n",
            "Epoch 20/50\n",
            "31102/31102 [==============================] - 37s 1ms/step - loss: 2.4593\n",
            "\n",
            "Epoch 00020: loss improved from 2.47320 to 2.45932, saving model to weights-improvement-20-2.4593.hdf5\n",
            "Epoch 21/50\n",
            "31102/31102 [==============================] - 37s 1ms/step - loss: 2.4412\n",
            "\n",
            "Epoch 00021: loss improved from 2.45932 to 2.44120, saving model to weights-improvement-21-2.4412.hdf5\n",
            "Epoch 22/50\n",
            "31102/31102 [==============================] - 37s 1ms/step - loss: 2.4275\n",
            "\n",
            "Epoch 00022: loss improved from 2.44120 to 2.42754, saving model to weights-improvement-22-2.4275.hdf5\n",
            "Epoch 23/50\n",
            "31102/31102 [==============================] - 37s 1ms/step - loss: 2.4106\n",
            "\n",
            "Epoch 00023: loss improved from 2.42754 to 2.41062, saving model to weights-improvement-23-2.4106.hdf5\n",
            "Epoch 24/50\n",
            "31102/31102 [==============================] - 37s 1ms/step - loss: 2.3915\n",
            "\n",
            "Epoch 00024: loss improved from 2.41062 to 2.39154, saving model to weights-improvement-24-2.3915.hdf5\n",
            "Epoch 25/50\n",
            "31102/31102 [==============================] - 37s 1ms/step - loss: 2.3733\n",
            "\n",
            "Epoch 00025: loss improved from 2.39154 to 2.37331, saving model to weights-improvement-25-2.3733.hdf5\n",
            "Epoch 26/50\n",
            "31102/31102 [==============================] - 37s 1ms/step - loss: 2.3549\n",
            "\n",
            "Epoch 00026: loss improved from 2.37331 to 2.35488, saving model to weights-improvement-26-2.3549.hdf5\n",
            "Epoch 27/50\n",
            "31102/31102 [==============================] - 37s 1ms/step - loss: 2.3345\n",
            "\n",
            "Epoch 00027: loss improved from 2.35488 to 2.33450, saving model to weights-improvement-27-2.3345.hdf5\n",
            "Epoch 28/50\n",
            "31102/31102 [==============================] - 38s 1ms/step - loss: 2.3211\n",
            "\n",
            "Epoch 00028: loss improved from 2.33450 to 2.32113, saving model to weights-improvement-28-2.3211.hdf5\n",
            "Epoch 29/50\n",
            "31102/31102 [==============================] - 37s 1ms/step - loss: 2.2965\n",
            "\n",
            "Epoch 00029: loss improved from 2.32113 to 2.29653, saving model to weights-improvement-29-2.2965.hdf5\n",
            "Epoch 30/50\n",
            "31102/31102 [==============================] - 36s 1ms/step - loss: 2.2778\n",
            "\n",
            "Epoch 00030: loss improved from 2.29653 to 2.27780, saving model to weights-improvement-30-2.2778.hdf5\n",
            "Epoch 31/50\n",
            "31102/31102 [==============================] - 36s 1ms/step - loss: 2.2520\n",
            "\n",
            "Epoch 00031: loss improved from 2.27780 to 2.25198, saving model to weights-improvement-31-2.2520.hdf5\n",
            "Epoch 32/50\n",
            "31102/31102 [==============================] - 38s 1ms/step - loss: 2.2257\n",
            "\n",
            "Epoch 00032: loss improved from 2.25198 to 2.22565, saving model to weights-improvement-32-2.2257.hdf5\n",
            "Epoch 33/50\n",
            "31102/31102 [==============================] - 39s 1ms/step - loss: 2.2048\n",
            "\n",
            "Epoch 00033: loss improved from 2.22565 to 2.20482, saving model to weights-improvement-33-2.2048.hdf5\n",
            "Epoch 34/50\n",
            "31102/31102 [==============================] - 37s 1ms/step - loss: 2.1923\n",
            "\n",
            "Epoch 00034: loss improved from 2.20482 to 2.19227, saving model to weights-improvement-34-2.1923.hdf5\n",
            "Epoch 35/50\n",
            "31102/31102 [==============================] - 37s 1ms/step - loss: 2.1606\n",
            "\n",
            "Epoch 00035: loss improved from 2.19227 to 2.16064, saving model to weights-improvement-35-2.1606.hdf5\n",
            "Epoch 36/50\n",
            "31102/31102 [==============================] - 38s 1ms/step - loss: 2.1548\n",
            "\n",
            "Epoch 00036: loss improved from 2.16064 to 2.15484, saving model to weights-improvement-36-2.1548.hdf5\n",
            "Epoch 37/50\n",
            "31102/31102 [==============================] - 37s 1ms/step - loss: 2.1125\n",
            "\n",
            "Epoch 00037: loss improved from 2.15484 to 2.11248, saving model to weights-improvement-37-2.1125.hdf5\n",
            "Epoch 38/50\n",
            "31102/31102 [==============================] - 36s 1ms/step - loss: 2.0998\n",
            "\n",
            "Epoch 00038: loss improved from 2.11248 to 2.09985, saving model to weights-improvement-38-2.0998.hdf5\n",
            "Epoch 39/50\n",
            "31102/31102 [==============================] - 36s 1ms/step - loss: 2.0761\n",
            "\n",
            "Epoch 00039: loss improved from 2.09985 to 2.07613, saving model to weights-improvement-39-2.0761.hdf5\n",
            "Epoch 40/50\n",
            "31102/31102 [==============================] - 37s 1ms/step - loss: 2.0445\n",
            "\n",
            "Epoch 00040: loss improved from 2.07613 to 2.04454, saving model to weights-improvement-40-2.0445.hdf5\n",
            "Epoch 41/50\n",
            "31102/31102 [==============================] - 37s 1ms/step - loss: 2.0270\n",
            "\n",
            "Epoch 00041: loss improved from 2.04454 to 2.02705, saving model to weights-improvement-41-2.0270.hdf5\n",
            "Epoch 42/50\n",
            "31102/31102 [==============================] - 37s 1ms/step - loss: 1.9969\n",
            "\n",
            "Epoch 00042: loss improved from 2.02705 to 1.99692, saving model to weights-improvement-42-1.9969.hdf5\n",
            "Epoch 43/50\n",
            "31102/31102 [==============================] - 37s 1ms/step - loss: 1.9797\n",
            "\n",
            "Epoch 00043: loss improved from 1.99692 to 1.97968, saving model to weights-improvement-43-1.9797.hdf5\n",
            "Epoch 44/50\n",
            "31102/31102 [==============================] - 37s 1ms/step - loss: 1.9608\n",
            "\n",
            "Epoch 00044: loss improved from 1.97968 to 1.96077, saving model to weights-improvement-44-1.9608.hdf5\n",
            "Epoch 45/50\n",
            "31102/31102 [==============================] - 37s 1ms/step - loss: 1.9393\n",
            "\n",
            "Epoch 00045: loss improved from 1.96077 to 1.93935, saving model to weights-improvement-45-1.9393.hdf5\n",
            "Epoch 46/50\n",
            "31102/31102 [==============================] - 36s 1ms/step - loss: 1.9112\n",
            "\n",
            "Epoch 00046: loss improved from 1.93935 to 1.91117, saving model to weights-improvement-46-1.9112.hdf5\n",
            "Epoch 47/50\n",
            "31102/31102 [==============================] - 36s 1ms/step - loss: 1.8882\n",
            "\n",
            "Epoch 00047: loss improved from 1.91117 to 1.88820, saving model to weights-improvement-47-1.8882.hdf5\n",
            "Epoch 48/50\n",
            "31102/31102 [==============================] - 36s 1ms/step - loss: 1.8682\n",
            "\n",
            "Epoch 00048: loss improved from 1.88820 to 1.86823, saving model to weights-improvement-48-1.8682.hdf5\n",
            "Epoch 49/50\n",
            "31102/31102 [==============================] - 36s 1ms/step - loss: 1.8483\n",
            "\n",
            "Epoch 00049: loss improved from 1.86823 to 1.84832, saving model to weights-improvement-49-1.8483.hdf5\n",
            "Epoch 50/50\n",
            "31102/31102 [==============================] - 37s 1ms/step - loss: 1.8228\n",
            "\n",
            "Epoch 00050: loss improved from 1.84832 to 1.82278, saving model to weights-improvement-50-1.8228.hdf5\n"
          ],
          "name": "stdout"
        }
      ]
    },
    {
      "cell_type": "code",
      "metadata": {
        "id": "YB8JaMnggcKR",
        "colab_type": "code",
        "colab": {
          "base_uri": "https://localhost:8080/",
          "height": 279
        },
        "outputId": "4b5fdf1c-b29a-4410-fa70-639923dcc9df"
      },
      "source": [
        "#print(history.history.keys())\n",
        "import matplotlib.pyplot as plt\n",
        "plt.plot(history.history['loss'], label = 'Функция потерь')\n",
        "plt.xlabel('Эпоха обучения')\n",
        "plt.ylabel('Функция потерь')\n",
        "plt.legend()\n",
        "plt.show()"
      ],
      "execution_count": 18,
      "outputs": [
        {
          "output_type": "display_data",
          "data": {
            "image/png": "[encoded data removed]",
            "text/plain": [
              "<Figure size 432x288 with 1 Axes>"
            ]
          },
          "metadata": {
            "tags": [],
            "needs_background": "light"
          }
        }
      ]
    },
    {
      "cell_type": "markdown",
      "metadata": {
        "id": "T7MCEtZGMRJV",
        "colab_type": "text"
      },
      "source": [
        "Подгружаем в модель веса с наилучшим результатом"
      ]
    },
    {
      "cell_type": "code",
      "metadata": {
        "id": "hr4w19AJaVlN",
        "colab_type": "code",
        "colab": {}
      },
      "source": [
        "filename = \"weights-improvement-50-2.0707.hdf5\"\n",
        "model.load_weights(filename)\n",
        "model.compile(loss='categorical_crossentropy', optimizer='adam')"
      ],
      "execution_count": 0,
      "outputs": []
    },
    {
      "cell_type": "markdown",
      "metadata": {
        "id": "bya0pwMgyEZX",
        "colab_type": "text"
      },
      "source": [
        "Преобразование обратно в символы"
      ]
    },
    {
      "cell_type": "code",
      "metadata": {
        "id": "FKd1U0yCc2-s",
        "colab_type": "code",
        "colab": {}
      },
      "source": [
        "int_to_char = dict((i, c) for i, c in enumerate(chars))"
      ],
      "execution_count": 0,
      "outputs": []
    },
    {
      "cell_type": "markdown",
      "metadata": {
        "id": "RniIq4ujNRp2",
        "colab_type": "text"
      },
      "source": [
        "Пробуем делать прогнозы на обученной модели. Сначала начнём с последовательности начальных чисел в качестве входных данных, сгенерируем следующий символ, затем обновим последовательность начальных чисел, чтобы добавить сгенерированный символ в конец, и обрезать первый символ. Этот процесс повторяется до тех пор, пока мы хотим предсказать новые символы (например, последовательность длиной 1000 символов).\n",
        "\n",
        "Мы можем выбрать случайный шаблон ввода в качестве нашей начальной последовательности, а затем распечатать сгенерированные символы по мере их создания."
      ]
    },
    {
      "cell_type": "code",
      "metadata": {
        "id": "h6fqnayac5KA",
        "colab_type": "code",
        "outputId": "97120b6a-bf5c-40fa-c959-015a5f98fb76",
        "colab": {
          "base_uri": "https://localhost:8080/",
          "height": 168
        }
      },
      "source": [
        "import sys\n",
        "# pick a random seed\n",
        "start = numpy.random.randint(0, len(dataX)-1)\n",
        "pattern = dataX[start]\n",
        "print(\"Seed:\")\n",
        "print(\"\\\"\", ''.join([int_to_char[value] for value in pattern]), \"\\\"\")\n",
        "# generate characters\n",
        "for i in range(1000):\n",
        "\tx = numpy.reshape(pattern, (1, len(pattern), 1))\n",
        "\tx = x / float(n_vocab)\n",
        "\tprediction = model.predict(x, verbose=0)\n",
        "\tindex = numpy.argmax(prediction)\n",
        "\tresult = int_to_char[index]\n",
        "\tseq_in = [int_to_char[value] for value in pattern]\n",
        "\t#sys.stdout.write(result)\n",
        "\tpattern.append(index)\n",
        "\tpattern = pattern[1:len(pattern)]\n",
        "print(\"\\nDone.\")"
      ],
      "execution_count": 0,
      "outputs": [
        {
          "output_type": "stream",
          "text": [
            "Seed:\n",
            "\"                                                   w. ben hunt\n",
            "\n",
            "\n",
            "milwaukee public museum\n",
            "\n",
            "        pop \"\n",
            "\n",
            "Done.\n"
          ],
          "name": "stdout"
        }
      ]
    },
    {
      "cell_type": "markdown",
      "metadata": {
        "id": "0VuZzrp0N35y",
        "colab_type": "text"
      },
      "source": [
        "Аналогичный процесс произведём для двухслойной LSTM, однослойной GRU, и SimpleRNN, полноценные результаты и выводы по экспериментам отражены в прилагающемся отчёте."
      ]
    },
    {
      "cell_type": "code",
      "metadata": {
        "id": "PWFHvQ_SeP76",
        "colab_type": "code",
        "outputId": "a59f2285-be09-4158-af73-096ae64fa1ff",
        "colab": {
          "base_uri": "https://localhost:8080/",
          "height": 1000
        }
      },
      "source": [
        "# Two layers LSTM Network to Generate Text for \"KACHINA DOLLS\"\n",
        "import numpy\n",
        "from keras.utils.vis_utils import plot_model\n",
        "from keras.models import Sequential\n",
        "from keras.layers import Dense\n",
        "from keras.layers import Dropout\n",
        "from keras.layers import LSTM\n",
        "from keras.callbacks import ModelCheckpoint\n",
        "from keras.utils import np_utils\n",
        "# load ascii text and covert to lowercase\n",
        "filename = \"Work_text(1).txt\"\n",
        "raw_text = open(filename, 'r', encoding='utf-8').read()\n",
        "raw_text = raw_text.lower()\n",
        "# create mapping of unique chars to integers\n",
        "chars = sorted(list(set(raw_text)))\n",
        "char_to_int = dict((c, i) for i, c in enumerate(chars))\n",
        "# summarize the loaded data\n",
        "n_chars = len(raw_text)\n",
        "n_vocab = len(chars)\n",
        "print(\"Total Characters: \", n_chars)\n",
        "print(\"Total Vocab: \", n_vocab)\n",
        "# prepare the dataset of input to output pairs encoded as integers\n",
        "seq_length = 100\n",
        "dataX = []\n",
        "dataY = []\n",
        "for i in range(0, n_chars - seq_length, 1):\n",
        "\tseq_in = raw_text[i:i + seq_length]\n",
        "\tseq_out = raw_text[i + seq_length]\n",
        "\tdataX.append([char_to_int[char] for char in seq_in])\n",
        "\tdataY.append(char_to_int[seq_out])\n",
        "n_patterns = len(dataX)\n",
        "print(\"Total Patterns: \", n_patterns)\n",
        "# reshape X to be [samples, time steps, features]\n",
        "X = numpy.reshape(dataX, (n_patterns, seq_length, 1))\n",
        "# normalize\n",
        "X = X / float(n_vocab)\n",
        "# one hot encode the output variable\n",
        "y = np_utils.to_categorical(dataY)\n",
        "# define the LSTM model\n",
        "model = Sequential()\n",
        "model.add(LSTM(256, input_shape=(X.shape[1], X.shape[2]), return_sequences=True))\n",
        "model.add(Dropout(0.2))\n",
        "model.add(LSTM(256))\n",
        "model.add(Dropout(0.2))\n",
        "model.add(Dense(y.shape[1], activation='softmax'))\n",
        "model.compile(loss='categorical_crossentropy', optimizer='adam')\n",
        "plot_model(model, to_file='model_plot.png', show_shapes=True, show_layer_names=True)\n",
        "# define the checkpoint\n",
        "filepath=\"weights-improvement-{epoch:02d}-{loss:.4f}-bigger.hdf5\"\n",
        "checkpoint = ModelCheckpoint(filepath, monitor='loss', verbose=1, save_best_only=True, mode='min')\n",
        "callbacks_list = [checkpoint]\n",
        "# fit the model\n",
        "history1 = model.fit(X, y, epochs=50, batch_size=64, callbacks=callbacks_list)"
      ],
      "execution_count": 20,
      "outputs": [
        {
          "output_type": "stream",
          "text": [
            "Total Characters:  31202\n",
            "Total Vocab:  67\n",
            "Total Patterns:  31102\n",
            "Epoch 1/50\n",
            "31102/31102 [==============================] - 146s 5ms/step - loss: 3.0214\n",
            "\n",
            "Epoch 00001: loss improved from inf to 3.02144, saving model to weights-improvement-01-3.0214-bigger.hdf5\n",
            "Epoch 2/50\n",
            "31102/31102 [==============================] - 147s 5ms/step - loss: 2.9236\n",
            "\n",
            "Epoch 00002: loss improved from 3.02144 to 2.92359, saving model to weights-improvement-02-2.9236-bigger.hdf5\n",
            "Epoch 3/50\n",
            "31102/31102 [==============================] - 148s 5ms/step - loss: 2.7628\n",
            "\n",
            "Epoch 00003: loss improved from 2.92359 to 2.76279, saving model to weights-improvement-03-2.7628-bigger.hdf5\n",
            "Epoch 4/50\n",
            "31102/31102 [==============================] - 148s 5ms/step - loss: 2.6564\n",
            "\n",
            "Epoch 00004: loss improved from 2.76279 to 2.65642, saving model to weights-improvement-04-2.6564-bigger.hdf5\n",
            "Epoch 5/50\n",
            "31102/31102 [==============================] - 147s 5ms/step - loss: 2.5822\n",
            "\n",
            "Epoch 00005: loss improved from 2.65642 to 2.58222, saving model to weights-improvement-05-2.5822-bigger.hdf5\n",
            "Epoch 6/50\n",
            "31102/31102 [==============================] - 147s 5ms/step - loss: 2.5231\n",
            "\n",
            "Epoch 00006: loss improved from 2.58222 to 2.52310, saving model to weights-improvement-06-2.5231-bigger.hdf5\n",
            "Epoch 7/50\n",
            "31102/31102 [==============================] - 149s 5ms/step - loss: 2.4740\n",
            "\n",
            "Epoch 00007: loss improved from 2.52310 to 2.47402, saving model to weights-improvement-07-2.4740-bigger.hdf5\n",
            "Epoch 8/50\n",
            "31102/31102 [==============================] - 149s 5ms/step - loss: 2.4285\n",
            "\n",
            "Epoch 00008: loss improved from 2.47402 to 2.42852, saving model to weights-improvement-08-2.4285-bigger.hdf5\n",
            "Epoch 9/50\n",
            "31102/31102 [==============================] - 147s 5ms/step - loss: 2.3876\n",
            "\n",
            "Epoch 00009: loss improved from 2.42852 to 2.38761, saving model to weights-improvement-09-2.3876-bigger.hdf5\n",
            "Epoch 10/50\n",
            "31102/31102 [==============================] - 143s 5ms/step - loss: 2.3409\n",
            "\n",
            "Epoch 00010: loss improved from 2.38761 to 2.34089, saving model to weights-improvement-10-2.3409-bigger.hdf5\n",
            "Epoch 11/50\n",
            "31102/31102 [==============================] - 141s 5ms/step - loss: 2.2985\n",
            "\n",
            "Epoch 00011: loss improved from 2.34089 to 2.29855, saving model to weights-improvement-11-2.2985-bigger.hdf5\n",
            "Epoch 12/50\n",
            "31102/31102 [==============================] - 139s 4ms/step - loss: 2.2655\n",
            "\n",
            "Epoch 00012: loss improved from 2.29855 to 2.26552, saving model to weights-improvement-12-2.2655-bigger.hdf5\n",
            "Epoch 13/50\n",
            "31102/31102 [==============================] - 140s 5ms/step - loss: 2.2166\n",
            "\n",
            "Epoch 00013: loss improved from 2.26552 to 2.21661, saving model to weights-improvement-13-2.2166-bigger.hdf5\n",
            "Epoch 14/50\n",
            "31102/31102 [==============================] - 140s 4ms/step - loss: 2.1773\n",
            "\n",
            "Epoch 00014: loss improved from 2.21661 to 2.17733, saving model to weights-improvement-14-2.1773-bigger.hdf5\n",
            "Epoch 15/50\n",
            "31102/31102 [==============================] - 140s 5ms/step - loss: 2.1362\n",
            "\n",
            "Epoch 00015: loss improved from 2.17733 to 2.13617, saving model to weights-improvement-15-2.1362-bigger.hdf5\n",
            "Epoch 16/50\n",
            "31102/31102 [==============================] - 140s 5ms/step - loss: 2.0926\n",
            "\n",
            "Epoch 00016: loss improved from 2.13617 to 2.09263, saving model to weights-improvement-16-2.0926-bigger.hdf5\n",
            "Epoch 17/50\n",
            "31102/31102 [==============================] - 140s 5ms/step - loss: 2.0532\n",
            "\n",
            "Epoch 00017: loss improved from 2.09263 to 2.05319, saving model to weights-improvement-17-2.0532-bigger.hdf5\n",
            "Epoch 18/50\n",
            "31102/31102 [==============================] - 140s 5ms/step - loss: 2.0082\n",
            "\n",
            "Epoch 00018: loss improved from 2.05319 to 2.00820, saving model to weights-improvement-18-2.0082-bigger.hdf5\n",
            "Epoch 19/50\n",
            "31102/31102 [==============================] - 141s 5ms/step - loss: 1.9668\n",
            "\n",
            "Epoch 00019: loss improved from 2.00820 to 1.96680, saving model to weights-improvement-19-1.9668-bigger.hdf5\n",
            "Epoch 20/50\n",
            "31102/31102 [==============================] - 141s 5ms/step - loss: 1.9158\n",
            "\n",
            "Epoch 00020: loss improved from 1.96680 to 1.91578, saving model to weights-improvement-20-1.9158-bigger.hdf5\n",
            "Epoch 21/50\n",
            "31102/31102 [==============================] - 141s 5ms/step - loss: 1.8721\n",
            "\n",
            "Epoch 00021: loss improved from 1.91578 to 1.87206, saving model to weights-improvement-21-1.8721-bigger.hdf5\n",
            "Epoch 22/50\n",
            "31102/31102 [==============================] - 140s 4ms/step - loss: 1.8298\n",
            "\n",
            "Epoch 00022: loss improved from 1.87206 to 1.82979, saving model to weights-improvement-22-1.8298-bigger.hdf5\n",
            "Epoch 23/50\n",
            "31102/31102 [==============================] - 140s 4ms/step - loss: 1.7842\n",
            "\n",
            "Epoch 00023: loss improved from 1.82979 to 1.78424, saving model to weights-improvement-23-1.7842-bigger.hdf5\n",
            "Epoch 24/50\n",
            "31102/31102 [==============================] - 141s 5ms/step - loss: 1.7351\n",
            "\n",
            "Epoch 00024: loss improved from 1.78424 to 1.73505, saving model to weights-improvement-24-1.7351-bigger.hdf5\n",
            "Epoch 25/50\n",
            "31102/31102 [==============================] - 139s 4ms/step - loss: 1.6854\n",
            "\n",
            "Epoch 00025: loss improved from 1.73505 to 1.68537, saving model to weights-improvement-25-1.6854-bigger.hdf5\n",
            "Epoch 26/50\n",
            "31102/31102 [==============================] - 140s 4ms/step - loss: 1.6436\n",
            "\n",
            "Epoch 00026: loss improved from 1.68537 to 1.64359, saving model to weights-improvement-26-1.6436-bigger.hdf5\n",
            "Epoch 27/50\n",
            "31102/31102 [==============================] - 139s 4ms/step - loss: 1.5958\n",
            "\n",
            "Epoch 00027: loss improved from 1.64359 to 1.59575, saving model to weights-improvement-27-1.5958-bigger.hdf5\n",
            "Epoch 28/50\n",
            "31102/31102 [==============================] - 140s 5ms/step - loss: 1.5509\n",
            "\n",
            "Epoch 00028: loss improved from 1.59575 to 1.55094, saving model to weights-improvement-28-1.5509-bigger.hdf5\n",
            "Epoch 29/50\n",
            "31102/31102 [==============================] - 140s 4ms/step - loss: 1.5069\n",
            "\n",
            "Epoch 00029: loss improved from 1.55094 to 1.50685, saving model to weights-improvement-29-1.5069-bigger.hdf5\n",
            "Epoch 30/50\n",
            "31102/31102 [==============================] - 140s 5ms/step - loss: 1.4603\n",
            "\n",
            "Epoch 00030: loss improved from 1.50685 to 1.46028, saving model to weights-improvement-30-1.4603-bigger.hdf5\n",
            "Epoch 31/50\n",
            "31102/31102 [==============================] - 139s 4ms/step - loss: 1.4267\n",
            "\n",
            "Epoch 00031: loss improved from 1.46028 to 1.42665, saving model to weights-improvement-31-1.4267-bigger.hdf5\n",
            "Epoch 32/50\n",
            "31102/31102 [==============================] - 141s 5ms/step - loss: 1.3767\n",
            "\n",
            "Epoch 00032: loss improved from 1.42665 to 1.37673, saving model to weights-improvement-32-1.3767-bigger.hdf5\n",
            "Epoch 33/50\n",
            "31102/31102 [==============================] - 141s 5ms/step - loss: 1.3312\n",
            "\n",
            "Epoch 00033: loss improved from 1.37673 to 1.33118, saving model to weights-improvement-33-1.3312-bigger.hdf5\n",
            "Epoch 34/50\n",
            "31102/31102 [==============================] - 146s 5ms/step - loss: 1.2973\n",
            "\n",
            "Epoch 00034: loss improved from 1.33118 to 1.29733, saving model to weights-improvement-34-1.2973-bigger.hdf5\n",
            "Epoch 35/50\n",
            "31102/31102 [==============================] - 141s 5ms/step - loss: 1.2528\n",
            "\n",
            "Epoch 00035: loss improved from 1.29733 to 1.25282, saving model to weights-improvement-35-1.2528-bigger.hdf5\n",
            "Epoch 36/50\n",
            "31102/31102 [==============================] - 139s 4ms/step - loss: 1.2116\n",
            "\n",
            "Epoch 00036: loss improved from 1.25282 to 1.21158, saving model to weights-improvement-36-1.2116-bigger.hdf5\n",
            "Epoch 37/50\n",
            "31102/31102 [==============================] - 140s 5ms/step - loss: 1.1784\n",
            "\n",
            "Epoch 00037: loss improved from 1.21158 to 1.17843, saving model to weights-improvement-37-1.1784-bigger.hdf5\n",
            "Epoch 38/50\n",
            "31102/31102 [==============================] - 141s 5ms/step - loss: 1.1498\n",
            "\n",
            "Epoch 00038: loss improved from 1.17843 to 1.14977, saving model to weights-improvement-38-1.1498-bigger.hdf5\n",
            "Epoch 39/50\n",
            "31102/31102 [==============================] - 142s 5ms/step - loss: 1.1008\n",
            "\n",
            "Epoch 00039: loss improved from 1.14977 to 1.10081, saving model to weights-improvement-39-1.1008-bigger.hdf5\n",
            "Epoch 40/50\n",
            "31102/31102 [==============================] - 141s 5ms/step - loss: 1.0753\n",
            "\n",
            "Epoch 00040: loss improved from 1.10081 to 1.07533, saving model to weights-improvement-40-1.0753-bigger.hdf5\n",
            "Epoch 41/50\n",
            "31102/31102 [==============================] - 141s 5ms/step - loss: 1.0339\n",
            "\n",
            "Epoch 00041: loss improved from 1.07533 to 1.03390, saving model to weights-improvement-41-1.0339-bigger.hdf5\n",
            "Epoch 42/50\n",
            "31102/31102 [==============================] - 141s 5ms/step - loss: 1.0051\n",
            "\n",
            "Epoch 00042: loss improved from 1.03390 to 1.00507, saving model to weights-improvement-42-1.0051-bigger.hdf5\n",
            "Epoch 43/50\n",
            "31102/31102 [==============================] - 141s 5ms/step - loss: 0.9772\n",
            "\n",
            "Epoch 00043: loss improved from 1.00507 to 0.97721, saving model to weights-improvement-43-0.9772-bigger.hdf5\n",
            "Epoch 44/50\n",
            "31102/31102 [==============================] - 141s 5ms/step - loss: 0.9486\n",
            "\n",
            "Epoch 00044: loss improved from 0.97721 to 0.94859, saving model to weights-improvement-44-0.9486-bigger.hdf5\n",
            "Epoch 45/50\n",
            "31102/31102 [==============================] - 140s 4ms/step - loss: 0.9083\n",
            "\n",
            "Epoch 00045: loss improved from 0.94859 to 0.90834, saving model to weights-improvement-45-0.9083-bigger.hdf5\n",
            "Epoch 46/50\n",
            "31102/31102 [==============================] - 140s 5ms/step - loss: 0.8965\n",
            "\n",
            "Epoch 00046: loss improved from 0.90834 to 0.89649, saving model to weights-improvement-46-0.8965-bigger.hdf5\n",
            "Epoch 47/50\n",
            "31102/31102 [==============================] - 140s 5ms/step - loss: 0.8619\n",
            "\n",
            "Epoch 00047: loss improved from 0.89649 to 0.86185, saving model to weights-improvement-47-0.8619-bigger.hdf5\n",
            "Epoch 48/50\n",
            "31102/31102 [==============================] - 143s 5ms/step - loss: 0.8398\n",
            "\n",
            "Epoch 00048: loss improved from 0.86185 to 0.83982, saving model to weights-improvement-48-0.8398-bigger.hdf5\n",
            "Epoch 49/50\n",
            "31102/31102 [==============================] - 143s 5ms/step - loss: 0.8152\n",
            "\n",
            "Epoch 00049: loss improved from 0.83982 to 0.81520, saving model to weights-improvement-49-0.8152-bigger.hdf5\n",
            "Epoch 50/50\n",
            "31102/31102 [==============================] - 148s 5ms/step - loss: 0.7912\n",
            "\n",
            "Epoch 00050: loss improved from 0.81520 to 0.79121, saving model to weights-improvement-50-0.7912-bigger.hdf5\n"
          ],
          "name": "stdout"
        }
      ]
    },
    {
      "cell_type": "code",
      "metadata": {
        "id": "VJYuha0as43w",
        "colab_type": "code",
        "colab": {
          "base_uri": "https://localhost:8080/",
          "height": 279
        },
        "outputId": "7aec2434-01f4-46bf-b50d-5d17b73e52db"
      },
      "source": [
        "import matplotlib.pyplot as plt\n",
        "plt.plot(history1.history['loss'], label = 'Функция потерь')\n",
        "plt.xlabel('Эпоха обучения')\n",
        "plt.ylabel('Функция потерь')\n",
        "plt.legend()\n",
        "plt.show()"
      ],
      "execution_count": 21,
      "outputs": [
        {
          "output_type": "display_data",
          "data": {
            "image/png": "[encoded data removed]",
            "text/plain": [
              "<Figure size 432x288 with 1 Axes>"
            ]
          },
          "metadata": {
            "tags": [],
            "needs_background": "light"
          }
        }
      ]
    },
    {
      "cell_type": "code",
      "metadata": {
        "id": "mZsFXTZDWe-W",
        "colab_type": "code",
        "colab": {}
      },
      "source": [
        "filename = \"weights-improvement-50-0.8987-bigger.hdf5\"\n",
        "model.load_weights(filename)\n",
        "model.compile(loss='categorical_crossentropy', optimizer='adam')"
      ],
      "execution_count": 0,
      "outputs": []
    },
    {
      "cell_type": "code",
      "metadata": {
        "id": "lW4fbGnLXFdg",
        "colab_type": "code",
        "outputId": "02e1c5e7-e448-4b17-a2f7-561a6749a474",
        "colab": {
          "base_uri": "https://localhost:8080/",
          "height": 118
        }
      },
      "source": [
        "import sys\n",
        "int_to_char = dict((i, c) for i, c in enumerate(chars))\n",
        "\n",
        "# pick a random seed\n",
        "start = numpy.random.randint(0, len(dataX)-1)\n",
        "pattern = dataX[start]\n",
        "print(\"Seed:\")\n",
        "print(\"\\\"\", ''.join([int_to_char[value] for value in pattern]), \"\\\"\")\n",
        "# generate characters\n",
        "for i in range(1000):\n",
        "\tx = numpy.reshape(pattern, (1, len(pattern), 1))\n",
        "\tx = x / float(n_vocab)\n",
        "\tprediction = model.predict(x, verbose=0)\n",
        "\tindex = numpy.argmax(prediction)\n",
        "\tresult = int_to_char[index]\n",
        "\tseq_in = [int_to_char[value] for value in pattern]\n",
        "\t#sys.stdout.write(result)\n",
        "\tpattern.append(index)\n",
        "\tpattern = pattern[1:len(pattern)]\n",
        "print(\"\\nDone.\")"
      ],
      "execution_count": 0,
      "outputs": [
        {
          "output_type": "stream",
          "text": [
            "Seed:\n",
            "\" n it was\n",
            "discovered that tourists prized them. and like everything else, someone\n",
            "saw a chance to ear \"\n",
            "\n",
            "Done.\n"
          ],
          "name": "stdout"
        }
      ]
    },
    {
      "cell_type": "code",
      "metadata": {
        "id": "R3UUwHcvZBIv",
        "colab_type": "code",
        "outputId": "e9c72bc7-a21a-437d-b85c-57c1c45f185a",
        "colab": {
          "base_uri": "https://localhost:8080/",
          "height": 1000
        }
      },
      "source": [
        "# One lauer GRU Network to Generate Text \"KACHINA DOLLS\"\n",
        "import numpy\n",
        "from keras.utils.vis_utils import plot_model\n",
        "from keras.models import Sequential\n",
        "from keras.layers import Dense\n",
        "from keras.layers import Dropout\n",
        "from keras.layers import GRU\n",
        "from keras.callbacks import ModelCheckpoint\n",
        "from keras.utils import np_utils\n",
        "# load ascii text and covert to lowercase\n",
        "filename = \"Work_text(1).txt\"\n",
        "raw_text = open(filename).read()\n",
        "raw_text = raw_text.lower()\n",
        "# create mapping of unique chars to integers\n",
        "chars = sorted(list(set(raw_text)))\n",
        "char_to_int = dict((c, i) for i, c in enumerate(chars))\n",
        "# summarize the loaded data\n",
        "n_chars = len(raw_text)\n",
        "n_vocab = len(chars)\n",
        "print(\"Total Characters: \", n_chars)\n",
        "print(\"Total Vocab: \", n_vocab)\n",
        "# prepare the dataset of input to output pairs encoded as integers\n",
        "seq_length = 100\n",
        "dataX = []\n",
        "dataY = []\n",
        "for i in range(0, n_chars - seq_length, 1):\n",
        "\tseq_in = raw_text[i:i + seq_length]\n",
        "\tseq_out = raw_text[i + seq_length]\n",
        "\tdataX.append([char_to_int[char] for char in seq_in])\n",
        "\tdataY.append(char_to_int[seq_out])\n",
        "n_patterns = len(dataX)\n",
        "print(\"Total Patterns: \", n_patterns)\n",
        "# reshape X to be [samples, time steps, features]\n",
        "X = numpy.reshape(dataX, (n_patterns, seq_length, 1))\n",
        "# normalize\n",
        "X = X / float(n_vocab)\n",
        "# one hot encode the output variable\n",
        "y = np_utils.to_categorical(dataY)\n",
        "# define the GRU model\n",
        "model = Sequential()\n",
        "model.add(GRU(256, input_shape=(X.shape[1], X.shape[2])))\n",
        "model.add(Dropout(0.2))\n",
        "model.add(Dense(y.shape[1], activation='softmax'))\n",
        "model.compile(loss='categorical_crossentropy', optimizer='adam')\n",
        "plot_model(model, to_file='model_plot.png', show_shapes=True, show_layer_names=True)\n",
        "# define the checkpoint\n",
        "filepath=\"weights-improvement-{epoch:02d}-{loss:.4f}-bigger.hdf5\"\n",
        "checkpoint = ModelCheckpoint(filepath, monitor='loss', verbose=1, save_best_only=True, mode='min')\n",
        "callbacks_list = [checkpoint]\n",
        "# fit the model\n",
        "history2 = model.fit(X, y, nb_epoch=50, batch_size=64, callbacks=callbacks_list)"
      ],
      "execution_count": 22,
      "outputs": [
        {
          "output_type": "stream",
          "text": [
            "Total Characters:  31202\n",
            "Total Vocab:  67\n",
            "Total Patterns:  31102\n"
          ],
          "name": "stdout"
        },
        {
          "output_type": "stream",
          "text": [
            "/usr/local/lib/python3.6/dist-packages/ipykernel_launcher.py:51: UserWarning: The `nb_epoch` argument in `fit` has been renamed `epochs`.\n"
          ],
          "name": "stderr"
        },
        {
          "output_type": "stream",
          "text": [
            "Epoch 1/50\n",
            "31102/31102 [==============================] - 89s 3ms/step - loss: 2.9977\n",
            "\n",
            "Epoch 00001: loss improved from inf to 2.99774, saving model to weights-improvement-01-2.9977-bigger.hdf5\n",
            "Epoch 2/50\n",
            "31102/31102 [==============================] - 89s 3ms/step - loss: 2.8152\n",
            "\n",
            "Epoch 00002: loss improved from 2.99774 to 2.81519, saving model to weights-improvement-02-2.8152-bigger.hdf5\n",
            "Epoch 3/50\n",
            "31102/31102 [==============================] - 88s 3ms/step - loss: 2.7289\n",
            "\n",
            "Epoch 00003: loss improved from 2.81519 to 2.72893, saving model to weights-improvement-03-2.7289-bigger.hdf5\n",
            "Epoch 4/50\n",
            "31102/31102 [==============================] - 88s 3ms/step - loss: 2.6642\n",
            "\n",
            "Epoch 00004: loss improved from 2.72893 to 2.66421, saving model to weights-improvement-04-2.6642-bigger.hdf5\n",
            "Epoch 5/50\n",
            "31102/31102 [==============================] - 88s 3ms/step - loss: 2.6092\n",
            "\n",
            "Epoch 00005: loss improved from 2.66421 to 2.60916, saving model to weights-improvement-05-2.6092-bigger.hdf5\n",
            "Epoch 6/50\n",
            "31102/31102 [==============================] - 88s 3ms/step - loss: 2.5719\n",
            "\n",
            "Epoch 00006: loss improved from 2.60916 to 2.57191, saving model to weights-improvement-06-2.5719-bigger.hdf5\n",
            "Epoch 7/50\n",
            "31102/31102 [==============================] - 87s 3ms/step - loss: 2.5378\n",
            "\n",
            "Epoch 00007: loss improved from 2.57191 to 2.53776, saving model to weights-improvement-07-2.5378-bigger.hdf5\n",
            "Epoch 8/50\n",
            "31102/31102 [==============================] - 88s 3ms/step - loss: 2.5114\n",
            "\n",
            "Epoch 00008: loss improved from 2.53776 to 2.51135, saving model to weights-improvement-08-2.5114-bigger.hdf5\n",
            "Epoch 9/50\n",
            "31102/31102 [==============================] - 88s 3ms/step - loss: 2.4857\n",
            "\n",
            "Epoch 00009: loss improved from 2.51135 to 2.48574, saving model to weights-improvement-09-2.4857-bigger.hdf5\n",
            "Epoch 10/50\n",
            "31102/31102 [==============================] - 87s 3ms/step - loss: 2.4602\n",
            "\n",
            "Epoch 00010: loss improved from 2.48574 to 2.46019, saving model to weights-improvement-10-2.4602-bigger.hdf5\n",
            "Epoch 11/50\n",
            "31102/31102 [==============================] - 88s 3ms/step - loss: 2.4342\n",
            "\n",
            "Epoch 00011: loss improved from 2.46019 to 2.43416, saving model to weights-improvement-11-2.4342-bigger.hdf5\n",
            "Epoch 12/50\n",
            "31102/31102 [==============================] - 88s 3ms/step - loss: 2.4083\n",
            "\n",
            "Epoch 00012: loss improved from 2.43416 to 2.40831, saving model to weights-improvement-12-2.4083-bigger.hdf5\n",
            "Epoch 13/50\n",
            "31102/31102 [==============================] - 88s 3ms/step - loss: 2.3783\n",
            "\n",
            "Epoch 00013: loss improved from 2.40831 to 2.37827, saving model to weights-improvement-13-2.3783-bigger.hdf5\n",
            "Epoch 14/50\n",
            "31102/31102 [==============================] - 87s 3ms/step - loss: 2.3447\n",
            "\n",
            "Epoch 00014: loss improved from 2.37827 to 2.34474, saving model to weights-improvement-14-2.3447-bigger.hdf5\n",
            "Epoch 15/50\n",
            "31102/31102 [==============================] - 88s 3ms/step - loss: 2.3098\n",
            "\n",
            "Epoch 00015: loss improved from 2.34474 to 2.30978, saving model to weights-improvement-15-2.3098-bigger.hdf5\n",
            "Epoch 16/50\n",
            "31102/31102 [==============================] - 89s 3ms/step - loss: 2.2724\n",
            "\n",
            "Epoch 00016: loss improved from 2.30978 to 2.27245, saving model to weights-improvement-16-2.2724-bigger.hdf5\n",
            "Epoch 17/50\n",
            "31102/31102 [==============================] - 91s 3ms/step - loss: 2.2275\n",
            "\n",
            "Epoch 00017: loss improved from 2.27245 to 2.22750, saving model to weights-improvement-17-2.2275-bigger.hdf5\n",
            "Epoch 18/50\n",
            "31102/31102 [==============================] - 93s 3ms/step - loss: 2.1816\n",
            "\n",
            "Epoch 00018: loss improved from 2.22750 to 2.18163, saving model to weights-improvement-18-2.1816-bigger.hdf5\n",
            "Epoch 19/50\n",
            "31102/31102 [==============================] - 92s 3ms/step - loss: 2.1349\n",
            "\n",
            "Epoch 00019: loss improved from 2.18163 to 2.13492, saving model to weights-improvement-19-2.1349-bigger.hdf5\n",
            "Epoch 20/50\n",
            "31102/31102 [==============================] - 92s 3ms/step - loss: 2.0900\n",
            "\n",
            "Epoch 00020: loss improved from 2.13492 to 2.09001, saving model to weights-improvement-20-2.0900-bigger.hdf5\n",
            "Epoch 21/50\n",
            "31102/31102 [==============================] - 92s 3ms/step - loss: 2.0387\n",
            "\n",
            "Epoch 00021: loss improved from 2.09001 to 2.03871, saving model to weights-improvement-21-2.0387-bigger.hdf5\n",
            "Epoch 22/50\n",
            "31102/31102 [==============================] - 92s 3ms/step - loss: 1.9906\n",
            "\n",
            "Epoch 00022: loss improved from 2.03871 to 1.99063, saving model to weights-improvement-22-1.9906-bigger.hdf5\n",
            "Epoch 23/50\n",
            "31102/31102 [==============================] - 90s 3ms/step - loss: 1.9418\n",
            "\n",
            "Epoch 00023: loss improved from 1.99063 to 1.94175, saving model to weights-improvement-23-1.9418-bigger.hdf5\n",
            "Epoch 24/50\n",
            "31102/31102 [==============================] - 88s 3ms/step - loss: 1.8913\n",
            "\n",
            "Epoch 00024: loss improved from 1.94175 to 1.89127, saving model to weights-improvement-24-1.8913-bigger.hdf5\n",
            "Epoch 25/50\n",
            "31102/31102 [==============================] - 89s 3ms/step - loss: 1.8486\n",
            "\n",
            "Epoch 00025: loss improved from 1.89127 to 1.84860, saving model to weights-improvement-25-1.8486-bigger.hdf5\n",
            "Epoch 26/50\n",
            "31102/31102 [==============================] - 88s 3ms/step - loss: 1.8058\n",
            "\n",
            "Epoch 00026: loss improved from 1.84860 to 1.80581, saving model to weights-improvement-26-1.8058-bigger.hdf5\n",
            "Epoch 27/50\n",
            "31102/31102 [==============================] - 89s 3ms/step - loss: 1.7667\n",
            "\n",
            "Epoch 00027: loss improved from 1.80581 to 1.76669, saving model to weights-improvement-27-1.7667-bigger.hdf5\n",
            "Epoch 28/50\n",
            "31102/31102 [==============================] - 88s 3ms/step - loss: 1.7017\n",
            "\n",
            "Epoch 00028: loss improved from 1.76669 to 1.70166, saving model to weights-improvement-28-1.7017-bigger.hdf5\n",
            "Epoch 29/50\n",
            "31102/31102 [==============================] - 89s 3ms/step - loss: 1.6637\n",
            "\n",
            "Epoch 00029: loss improved from 1.70166 to 1.66367, saving model to weights-improvement-29-1.6637-bigger.hdf5\n",
            "Epoch 30/50\n",
            "31102/31102 [==============================] - 88s 3ms/step - loss: 1.6237\n",
            "\n",
            "Epoch 00030: loss improved from 1.66367 to 1.62368, saving model to weights-improvement-30-1.6237-bigger.hdf5\n",
            "Epoch 31/50\n",
            "31102/31102 [==============================] - 88s 3ms/step - loss: 1.5793\n",
            "\n",
            "Epoch 00031: loss improved from 1.62368 to 1.57929, saving model to weights-improvement-31-1.5793-bigger.hdf5\n",
            "Epoch 32/50\n",
            "31102/31102 [==============================] - 88s 3ms/step - loss: 1.5672\n",
            "\n",
            "Epoch 00032: loss improved from 1.57929 to 1.56718, saving model to weights-improvement-32-1.5672-bigger.hdf5\n",
            "Epoch 33/50\n",
            "31102/31102 [==============================] - 89s 3ms/step - loss: 1.5051\n",
            "\n",
            "Epoch 00033: loss improved from 1.56718 to 1.50513, saving model to weights-improvement-33-1.5051-bigger.hdf5\n",
            "Epoch 34/50\n",
            "31102/31102 [==============================] - 90s 3ms/step - loss: 1.4740\n",
            "\n",
            "Epoch 00034: loss improved from 1.50513 to 1.47397, saving model to weights-improvement-34-1.4740-bigger.hdf5\n",
            "Epoch 35/50\n",
            "31102/31102 [==============================] - 89s 3ms/step - loss: 1.4274\n",
            "\n",
            "Epoch 00035: loss improved from 1.47397 to 1.42740, saving model to weights-improvement-35-1.4274-bigger.hdf5\n",
            "Epoch 36/50\n",
            "31102/31102 [==============================] - 89s 3ms/step - loss: 1.3937\n",
            "\n",
            "Epoch 00036: loss improved from 1.42740 to 1.39370, saving model to weights-improvement-36-1.3937-bigger.hdf5\n",
            "Epoch 37/50\n",
            "31102/31102 [==============================] - 88s 3ms/step - loss: 1.3628\n",
            "\n",
            "Epoch 00037: loss improved from 1.39370 to 1.36282, saving model to weights-improvement-37-1.3628-bigger.hdf5\n",
            "Epoch 38/50\n",
            "31102/31102 [==============================] - 88s 3ms/step - loss: 1.3218\n",
            "\n",
            "Epoch 00038: loss improved from 1.36282 to 1.32182, saving model to weights-improvement-38-1.3218-bigger.hdf5\n",
            "Epoch 39/50\n",
            "31102/31102 [==============================] - 88s 3ms/step - loss: 1.3004\n",
            "\n",
            "Epoch 00039: loss improved from 1.32182 to 1.30041, saving model to weights-improvement-39-1.3004-bigger.hdf5\n",
            "Epoch 40/50\n",
            "31102/31102 [==============================] - 89s 3ms/step - loss: 1.2633\n",
            "\n",
            "Epoch 00040: loss improved from 1.30041 to 1.26330, saving model to weights-improvement-40-1.2633-bigger.hdf5\n",
            "Epoch 41/50\n",
            "31102/31102 [==============================] - 88s 3ms/step - loss: 1.2381\n",
            "\n",
            "Epoch 00041: loss improved from 1.26330 to 1.23815, saving model to weights-improvement-41-1.2381-bigger.hdf5\n",
            "Epoch 42/50\n",
            "31102/31102 [==============================] - 88s 3ms/step - loss: 1.2042\n",
            "\n",
            "Epoch 00042: loss improved from 1.23815 to 1.20419, saving model to weights-improvement-42-1.2042-bigger.hdf5\n",
            "Epoch 43/50\n",
            "31102/31102 [==============================] - 88s 3ms/step - loss: 1.1782\n",
            "\n",
            "Epoch 00043: loss improved from 1.20419 to 1.17823, saving model to weights-improvement-43-1.1782-bigger.hdf5\n",
            "Epoch 44/50\n",
            "31102/31102 [==============================] - 88s 3ms/step - loss: 1.1531\n",
            "\n",
            "Epoch 00044: loss improved from 1.17823 to 1.15310, saving model to weights-improvement-44-1.1531-bigger.hdf5\n",
            "Epoch 45/50\n",
            "31102/31102 [==============================] - 88s 3ms/step - loss: 1.1136\n",
            "\n",
            "Epoch 00045: loss improved from 1.15310 to 1.11361, saving model to weights-improvement-45-1.1136-bigger.hdf5\n",
            "Epoch 46/50\n",
            "31102/31102 [==============================] - 90s 3ms/step - loss: 1.0997\n",
            "\n",
            "Epoch 00046: loss improved from 1.11361 to 1.09973, saving model to weights-improvement-46-1.0997-bigger.hdf5\n",
            "Epoch 47/50\n",
            "31102/31102 [==============================] - 89s 3ms/step - loss: 1.0744\n",
            "\n",
            "Epoch 00047: loss improved from 1.09973 to 1.07438, saving model to weights-improvement-47-1.0744-bigger.hdf5\n",
            "Epoch 48/50\n",
            "31102/31102 [==============================] - 88s 3ms/step - loss: 1.0505\n",
            "\n",
            "Epoch 00048: loss improved from 1.07438 to 1.05051, saving model to weights-improvement-48-1.0505-bigger.hdf5\n",
            "Epoch 49/50\n",
            "31102/31102 [==============================] - 88s 3ms/step - loss: 1.0210\n",
            "\n",
            "Epoch 00049: loss improved from 1.05051 to 1.02097, saving model to weights-improvement-49-1.0210-bigger.hdf5\n",
            "Epoch 50/50\n",
            "31102/31102 [==============================] - 89s 3ms/step - loss: 0.9947\n",
            "\n",
            "Epoch 00050: loss improved from 1.02097 to 0.99467, saving model to weights-improvement-50-0.9947-bigger.hdf5\n"
          ],
          "name": "stdout"
        }
      ]
    },
    {
      "cell_type": "code",
      "metadata": {
        "id": "t5glDzC5JixC",
        "colab_type": "code",
        "colab": {
          "base_uri": "https://localhost:8080/",
          "height": 279
        },
        "outputId": "8d3d797d-7bf5-4293-8221-fe778b479d83"
      },
      "source": [
        "import matplotlib.pyplot as plt\n",
        "plt.plot(history2.history['loss'], label = 'Функция потерь')\n",
        "plt.xlabel('Эпоха обучения')\n",
        "plt.ylabel('Функция потерь')\n",
        "plt.legend()\n",
        "plt.show()"
      ],
      "execution_count": 23,
      "outputs": [
        {
          "output_type": "display_data",
          "data": {
            "image/png": "[encoded data removed]",
            "text/plain": [
              "<Figure size 432x288 with 1 Axes>"
            ]
          },
          "metadata": {
            "tags": [],
            "needs_background": "light"
          }
        }
      ]
    },
    {
      "cell_type": "code",
      "metadata": {
        "id": "qNx6o6E09tm7",
        "colab_type": "code",
        "outputId": "ab9ac33d-94cd-41ed-9315-1455e6d17cef",
        "colab": {
          "base_uri": "https://localhost:8080/",
          "height": 118
        }
      },
      "source": [
        "import sys\n",
        "int_to_char = dict((i, c) for i, c in enumerate(chars))\n",
        "\n",
        "# pick a random seed\n",
        "start = numpy.random.randint(0, len(dataX)-1)\n",
        "pattern = dataX[start]\n",
        "print(\"Seed:\")\n",
        "print(\"\\\"\", ''.join([int_to_char[value] for value in pattern]), \"\\\"\")\n",
        "# generate characters\n",
        "for i in range(1000):\n",
        "\tx = numpy.reshape(pattern, (1, len(pattern), 1))\n",
        "\tx = x / float(n_vocab)\n",
        "\tprediction = model.predict(x, verbose=0)\n",
        "\tindex = numpy.argmax(prediction)\n",
        "\tresult = int_to_char[index]\n",
        "\tseq_in = [int_to_char[value] for value in pattern]\n",
        "\t#sys.stdout.write(result)\n",
        "\tpattern.append(index)\n",
        "\tpattern = pattern[1:len(pattern)]\n",
        "print(\"\\nDone.\")"
      ],
      "execution_count": 0,
      "outputs": [
        {
          "output_type": "stream",
          "text": [
            "Seed:\n",
            "\" cements dry\n",
            "quickly, it is better to use a glue that water color will adhere to.\n",
            "regular hide glue o \"\n",
            "\n",
            "Done.\n"
          ],
          "name": "stdout"
        }
      ]
    },
    {
      "cell_type": "code",
      "metadata": {
        "id": "K9iYgQigCRXm",
        "colab_type": "code",
        "outputId": "5077a19a-db96-45a6-abee-3b4dfc180735",
        "colab": {
          "base_uri": "https://localhost:8080/",
          "height": 1000
        }
      },
      "source": [
        "# One lauer simplleRNN  to Generate Text \"KACHINA DOLLS\"\n",
        "import numpy\n",
        "from keras.utils.vis_utils import plot_model\n",
        "from keras.models import Sequential\n",
        "from keras.layers import Dense\n",
        "from keras.layers import Dropout\n",
        "from keras.layers import SimpleRNN\n",
        "from keras.callbacks import ModelCheckpoint\n",
        "from keras.utils import np_utils\n",
        "# load ascii text and covert to lowercase\n",
        "filename = \"Work_text(1).txt\"\n",
        "raw_text = open(filename).read()\n",
        "raw_text = raw_text.lower()\n",
        "# create mapping of unique chars to integers\n",
        "chars = sorted(list(set(raw_text)))\n",
        "char_to_int = dict((c, i) for i, c in enumerate(chars))\n",
        "# summarize the loaded data\n",
        "n_chars = len(raw_text)\n",
        "n_vocab = len(chars)\n",
        "print(\"Total Characters: \", n_chars)\n",
        "print(\"Total Vocab: \", n_vocab)\n",
        "# prepare the dataset of input to output pairs encoded as integers\n",
        "seq_length = 100\n",
        "dataX = []\n",
        "dataY = []\n",
        "for i in range(0, n_chars - seq_length, 1):\n",
        "\tseq_in = raw_text[i:i + seq_length]\n",
        "\tseq_out = raw_text[i + seq_length]\n",
        "\tdataX.append([char_to_int[char] for char in seq_in])\n",
        "\tdataY.append(char_to_int[seq_out])\n",
        "n_patterns = len(dataX)\n",
        "print(\"Total Patterns: \", n_patterns)\n",
        "# reshape X to be [samples, time steps, features]\n",
        "X = numpy.reshape(dataX, (n_patterns, seq_length, 1))\n",
        "# normalize\n",
        "X = X / float(n_vocab)\n",
        "# one hot encode the output variable\n",
        "y = np_utils.to_categorical(dataY)\n",
        "# define the SimpleRNN model\n",
        "model = Sequential()\n",
        "# The output of SimpleRNN will be a 2D tensor of shape (batch_size, 128)\n",
        "model.add(SimpleRNN(256, input_shape=(X.shape[1], X.shape[2])))\n",
        "model.add(Dropout(0.2))\n",
        "model.add(Dense(y.shape[1], activation='softmax'))\n",
        "model.compile(loss='categorical_crossentropy', optimizer='adam')\n",
        "plot_model(model, to_file='model_plot.png', show_shapes=True, show_layer_names=True)\n",
        "# define the checkpoint\n",
        "filepath=\"weights-improvement-{epoch:02d}-{loss:.4f}-bigger.hdf5\"\n",
        "checkpoint = ModelCheckpoint(filepath, monitor='loss', verbose=1, save_best_only=True, mode='min')\n",
        "callbacks_list = [checkpoint]\n",
        "# fit the model\n",
        "history3 = model.fit(X, y, nb_epoch=50, batch_size=64, callbacks=callbacks_list)"
      ],
      "execution_count": 24,
      "outputs": [
        {
          "output_type": "stream",
          "text": [
            "Total Characters:  31202\n",
            "Total Vocab:  67\n",
            "Total Patterns:  31102\n"
          ],
          "name": "stdout"
        },
        {
          "output_type": "stream",
          "text": [
            "/usr/local/lib/python3.6/dist-packages/ipykernel_launcher.py:52: UserWarning: The `nb_epoch` argument in `fit` has been renamed `epochs`.\n"
          ],
          "name": "stderr"
        },
        {
          "output_type": "stream",
          "text": [
            "Epoch 1/50\n",
            "31102/31102 [==============================] - 26s 839us/step - loss: 3.1889\n",
            "\n",
            "Epoch 00001: loss improved from inf to 3.18895, saving model to weights-improvement-01-3.1889-bigger.hdf5\n",
            "Epoch 2/50\n",
            "31102/31102 [==============================] - 26s 826us/step - loss: 3.1819\n",
            "\n",
            "Epoch 00002: loss improved from 3.18895 to 3.18190, saving model to weights-improvement-02-3.1819-bigger.hdf5\n",
            "Epoch 3/50\n",
            "31102/31102 [==============================] - 25s 819us/step - loss: 3.2184\n",
            "\n",
            "Epoch 00003: loss did not improve from 3.18190\n",
            "Epoch 4/50\n",
            "31102/31102 [==============================] - 25s 818us/step - loss: 3.1304\n",
            "\n",
            "Epoch 00004: loss improved from 3.18190 to 3.13042, saving model to weights-improvement-04-3.1304-bigger.hdf5\n",
            "Epoch 5/50\n",
            "31102/31102 [==============================] - 25s 814us/step - loss: 3.0070\n",
            "\n",
            "Epoch 00005: loss improved from 3.13042 to 3.00705, saving model to weights-improvement-05-3.0070-bigger.hdf5\n",
            "Epoch 6/50\n",
            "31102/31102 [==============================] - 25s 816us/step - loss: 3.0585\n",
            "\n",
            "Epoch 00006: loss did not improve from 3.00705\n",
            "Epoch 7/50\n",
            "31102/31102 [==============================] - 25s 812us/step - loss: 3.1042\n",
            "\n",
            "Epoch 00007: loss did not improve from 3.00705\n",
            "Epoch 8/50\n",
            "31102/31102 [==============================] - 25s 814us/step - loss: 2.9926\n",
            "\n",
            "Epoch 00008: loss improved from 3.00705 to 2.99258, saving model to weights-improvement-08-2.9926-bigger.hdf5\n",
            "Epoch 9/50\n",
            "31102/31102 [==============================] - 25s 818us/step - loss: 2.9529\n",
            "\n",
            "Epoch 00009: loss improved from 2.99258 to 2.95292, saving model to weights-improvement-09-2.9529-bigger.hdf5\n",
            "Epoch 10/50\n",
            "31102/31102 [==============================] - 25s 818us/step - loss: 2.9323\n",
            "\n",
            "Epoch 00010: loss improved from 2.95292 to 2.93234, saving model to weights-improvement-10-2.9323-bigger.hdf5\n",
            "Epoch 11/50\n",
            "31102/31102 [==============================] - 25s 819us/step - loss: 3.0573\n",
            "\n",
            "Epoch 00011: loss did not improve from 2.93234\n",
            "Epoch 12/50\n",
            "31102/31102 [==============================] - 25s 812us/step - loss: 2.9830\n",
            "\n",
            "Epoch 00012: loss did not improve from 2.93234\n",
            "Epoch 13/50\n",
            "31102/31102 [==============================] - 26s 824us/step - loss: 2.9689\n",
            "\n",
            "Epoch 00013: loss did not improve from 2.93234\n",
            "Epoch 14/50\n",
            "31102/31102 [==============================] - 25s 809us/step - loss: 2.9524\n",
            "\n",
            "Epoch 00014: loss did not improve from 2.93234\n",
            "Epoch 15/50\n",
            "31102/31102 [==============================] - 25s 815us/step - loss: 2.9389\n",
            "\n",
            "Epoch 00015: loss did not improve from 2.93234\n",
            "Epoch 16/50\n",
            "31102/31102 [==============================] - 25s 811us/step - loss: 2.9171\n",
            "\n",
            "Epoch 00016: loss improved from 2.93234 to 2.91713, saving model to weights-improvement-16-2.9171-bigger.hdf5\n",
            "Epoch 17/50\n",
            "31102/31102 [==============================] - 25s 816us/step - loss: 2.9064\n",
            "\n",
            "Epoch 00017: loss improved from 2.91713 to 2.90639, saving model to weights-improvement-17-2.9064-bigger.hdf5\n",
            "Epoch 18/50\n",
            "31102/31102 [==============================] - 25s 817us/step - loss: 2.8910\n",
            "\n",
            "Epoch 00018: loss improved from 2.90639 to 2.89101, saving model to weights-improvement-18-2.8910-bigger.hdf5\n",
            "Epoch 19/50\n",
            "31102/31102 [==============================] - 25s 815us/step - loss: 2.8830\n",
            "\n",
            "Epoch 00019: loss improved from 2.89101 to 2.88304, saving model to weights-improvement-19-2.8830-bigger.hdf5\n",
            "Epoch 20/50\n",
            "31102/31102 [==============================] - 25s 816us/step - loss: 2.8743\n",
            "\n",
            "Epoch 00020: loss improved from 2.88304 to 2.87433, saving model to weights-improvement-20-2.8743-bigger.hdf5\n",
            "Epoch 21/50\n",
            "31102/31102 [==============================] - 25s 813us/step - loss: 2.8568\n",
            "\n",
            "Epoch 00021: loss improved from 2.87433 to 2.85682, saving model to weights-improvement-21-2.8568-bigger.hdf5\n",
            "Epoch 22/50\n",
            "31102/31102 [==============================] - 25s 815us/step - loss: 2.8512\n",
            "\n",
            "Epoch 00022: loss improved from 2.85682 to 2.85124, saving model to weights-improvement-22-2.8512-bigger.hdf5\n",
            "Epoch 23/50\n",
            "31102/31102 [==============================] - 26s 823us/step - loss: 2.8430\n",
            "\n",
            "Epoch 00023: loss improved from 2.85124 to 2.84298, saving model to weights-improvement-23-2.8430-bigger.hdf5\n",
            "Epoch 24/50\n",
            "31102/31102 [==============================] - 25s 820us/step - loss: 2.8331\n",
            "\n",
            "Epoch 00024: loss improved from 2.84298 to 2.83307, saving model to weights-improvement-24-2.8331-bigger.hdf5\n",
            "Epoch 25/50\n",
            "31102/31102 [==============================] - 26s 840us/step - loss: 2.8300\n",
            "\n",
            "Epoch 00025: loss improved from 2.83307 to 2.83000, saving model to weights-improvement-25-2.8300-bigger.hdf5\n",
            "Epoch 26/50\n",
            "31102/31102 [==============================] - 26s 830us/step - loss: 2.8279\n",
            "\n",
            "Epoch 00026: loss improved from 2.83000 to 2.82794, saving model to weights-improvement-26-2.8279-bigger.hdf5\n",
            "Epoch 27/50\n",
            "31102/31102 [==============================] - 26s 849us/step - loss: 2.8216\n",
            "\n",
            "Epoch 00027: loss improved from 2.82794 to 2.82155, saving model to weights-improvement-27-2.8216-bigger.hdf5\n",
            "Epoch 28/50\n",
            "31102/31102 [==============================] - 26s 839us/step - loss: 2.8122\n",
            "\n",
            "Epoch 00028: loss improved from 2.82155 to 2.81222, saving model to weights-improvement-28-2.8122-bigger.hdf5\n",
            "Epoch 29/50\n",
            "31102/31102 [==============================] - 26s 849us/step - loss: 2.8115\n",
            "\n",
            "Epoch 00029: loss improved from 2.81222 to 2.81147, saving model to weights-improvement-29-2.8115-bigger.hdf5\n",
            "Epoch 30/50\n",
            "31102/31102 [==============================] - 27s 854us/step - loss: 2.8077\n",
            "\n",
            "Epoch 00030: loss improved from 2.81147 to 2.80768, saving model to weights-improvement-30-2.8077-bigger.hdf5\n",
            "Epoch 31/50\n",
            "31102/31102 [==============================] - 26s 851us/step - loss: 2.8009\n",
            "\n",
            "Epoch 00031: loss improved from 2.80768 to 2.80092, saving model to weights-improvement-31-2.8009-bigger.hdf5\n",
            "Epoch 32/50\n",
            "31102/31102 [==============================] - 27s 858us/step - loss: 2.7974\n",
            "\n",
            "Epoch 00032: loss improved from 2.80092 to 2.79744, saving model to weights-improvement-32-2.7974-bigger.hdf5\n",
            "Epoch 33/50\n",
            "31102/31102 [==============================] - 26s 851us/step - loss: 2.7915\n",
            "\n",
            "Epoch 00033: loss improved from 2.79744 to 2.79152, saving model to weights-improvement-33-2.7915-bigger.hdf5\n",
            "Epoch 34/50\n",
            "31102/31102 [==============================] - 25s 818us/step - loss: 2.7879\n",
            "\n",
            "Epoch 00034: loss improved from 2.79152 to 2.78787, saving model to weights-improvement-34-2.7879-bigger.hdf5\n",
            "Epoch 35/50\n",
            "31102/31102 [==============================] - 25s 811us/step - loss: 2.7966\n",
            "\n",
            "Epoch 00035: loss did not improve from 2.78787\n",
            "Epoch 36/50\n",
            "31102/31102 [==============================] - 26s 822us/step - loss: 2.7960\n",
            "\n",
            "Epoch 00036: loss did not improve from 2.78787\n",
            "Epoch 37/50\n",
            "31102/31102 [==============================] - 26s 832us/step - loss: 2.7853\n",
            "\n",
            "Epoch 00037: loss improved from 2.78787 to 2.78529, saving model to weights-improvement-37-2.7853-bigger.hdf5\n",
            "Epoch 38/50\n",
            "31102/31102 [==============================] - 25s 813us/step - loss: 2.7818\n",
            "\n",
            "Epoch 00038: loss improved from 2.78529 to 2.78176, saving model to weights-improvement-38-2.7818-bigger.hdf5\n",
            "Epoch 39/50\n",
            "31102/31102 [==============================] - 26s 820us/step - loss: 2.7752\n",
            "\n",
            "Epoch 00039: loss improved from 2.78176 to 2.77520, saving model to weights-improvement-39-2.7752-bigger.hdf5\n",
            "Epoch 40/50\n",
            "31102/31102 [==============================] - 25s 819us/step - loss: 2.7660\n",
            "\n",
            "Epoch 00040: loss improved from 2.77520 to 2.76600, saving model to weights-improvement-40-2.7660-bigger.hdf5\n",
            "Epoch 41/50\n",
            "31102/31102 [==============================] - 26s 823us/step - loss: 2.7614\n",
            "\n",
            "Epoch 00041: loss improved from 2.76600 to 2.76135, saving model to weights-improvement-41-2.7614-bigger.hdf5\n",
            "Epoch 42/50\n",
            "31102/31102 [==============================] - 26s 823us/step - loss: 2.7555\n",
            "\n",
            "Epoch 00042: loss improved from 2.76135 to 2.75549, saving model to weights-improvement-42-2.7555-bigger.hdf5\n",
            "Epoch 43/50\n",
            "31102/31102 [==============================] - 25s 811us/step - loss: 2.7512\n",
            "\n",
            "Epoch 00043: loss improved from 2.75549 to 2.75118, saving model to weights-improvement-43-2.7512-bigger.hdf5\n",
            "Epoch 44/50\n",
            "31102/31102 [==============================] - 26s 820us/step - loss: 2.7450\n",
            "\n",
            "Epoch 00044: loss improved from 2.75118 to 2.74500, saving model to weights-improvement-44-2.7450-bigger.hdf5\n",
            "Epoch 45/50\n",
            "31102/31102 [==============================] - 26s 823us/step - loss: 2.7433\n",
            "\n",
            "Epoch 00045: loss improved from 2.74500 to 2.74327, saving model to weights-improvement-45-2.7433-bigger.hdf5\n",
            "Epoch 46/50\n",
            "31102/31102 [==============================] - 25s 819us/step - loss: 2.7391\n",
            "\n",
            "Epoch 00046: loss improved from 2.74327 to 2.73910, saving model to weights-improvement-46-2.7391-bigger.hdf5\n",
            "Epoch 47/50\n",
            "31102/31102 [==============================] - 25s 817us/step - loss: 2.7349\n",
            "\n",
            "Epoch 00047: loss improved from 2.73910 to 2.73492, saving model to weights-improvement-47-2.7349-bigger.hdf5\n",
            "Epoch 48/50\n",
            "31102/31102 [==============================] - 25s 814us/step - loss: 2.7287\n",
            "\n",
            "Epoch 00048: loss improved from 2.73492 to 2.72873, saving model to weights-improvement-48-2.7287-bigger.hdf5\n",
            "Epoch 49/50\n",
            "31102/31102 [==============================] - 26s 832us/step - loss: 2.7250\n",
            "\n",
            "Epoch 00049: loss improved from 2.72873 to 2.72496, saving model to weights-improvement-49-2.7250-bigger.hdf5\n",
            "Epoch 50/50\n",
            "31102/31102 [==============================] - 25s 818us/step - loss: 2.7232\n",
            "\n",
            "Epoch 00050: loss improved from 2.72496 to 2.72319, saving model to weights-improvement-50-2.7232-bigger.hdf5\n"
          ],
          "name": "stdout"
        }
      ]
    },
    {
      "cell_type": "code",
      "metadata": {
        "id": "bo6vtFbjiEcB",
        "colab_type": "code",
        "colab": {
          "base_uri": "https://localhost:8080/",
          "height": 279
        },
        "outputId": "abcabb92-5cc9-4ad6-f251-a8abb86c9a60"
      },
      "source": [
        "import matplotlib.pyplot as plt\n",
        "plt.plot(history3.history['loss'], label = 'Функция потерь')\n",
        "plt.xlabel('Эпоха обучения')\n",
        "plt.ylabel('Функция потерь')\n",
        "plt.legend()\n",
        "plt.show()"
      ],
      "execution_count": 25,
      "outputs": [
        {
          "output_type": "display_data",
          "data": {
            "image/png": "[encoded data removed]",
            "text/plain": [
              "<Figure size 432x288 with 1 Axes>"
            ]
          },
          "metadata": {
            "tags": [],
            "needs_background": "light"
          }
        }
      ]
    },
    {
      "cell_type": "code",
      "metadata": {
        "id": "UBx9MvE1aXbw",
        "colab_type": "code",
        "outputId": "426a6d44-96c8-400e-82ec-064b178ec575",
        "colab": {
          "base_uri": "https://localhost:8080/",
          "height": 118
        }
      },
      "source": [
        "import sys\n",
        "int_to_char = dict((i, c) for i, c in enumerate(chars))\n",
        "\n",
        "# pick a random seed\n",
        "start = numpy.random.randint(0, len(dataX)-1)\n",
        "pattern = dataX[start]\n",
        "print(\"Seed:\")\n",
        "print(\"\\\"\", ''.join([int_to_char[value] for value in pattern]), \"\\\"\")\n",
        "# generate characters\n",
        "for i in range(1000):\n",
        "\tx = numpy.reshape(pattern, (1, len(pattern), 1))\n",
        "\tx = x / float(n_vocab)\n",
        "\tprediction = model.predict(x, verbose=0)\n",
        "\tindex = numpy.argmax(prediction)\n",
        "\tresult = int_to_char[index]\n",
        "\tseq_in = [int_to_char[value] for value in pattern]\n",
        "\t#sys.stdout.write(result)\n",
        "\tpattern.append(index)\n",
        "\tpattern = pattern[1:len(pattern)]\n",
        "print(\"\\nDone.\")"
      ],
      "execution_count": 0,
      "outputs": [
        {
          "output_type": "stream",
          "text": [
            "Seed:\n",
            "\" e along these lines. you\n",
            "will probably get a lot of ideas when traveling, but here are a couple\n",
            "that \"\n",
            "\n",
            "Done.\n"
          ],
          "name": "stdout"
        }
      ]
    }
  ]
}